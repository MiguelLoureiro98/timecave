{
 "cells": [
  {
   "cell_type": "code",
   "execution_count": 1,
   "metadata": {},
   "outputs": [],
   "source": [
    "import numpy as np\n",
    "from timecave.validation_methods.prequential import Rolling_Window, Growing_Window\n",
    "from timecave.validation_methods.CV import Block_CV"
   ]
  },
  {
   "cell_type": "code",
   "execution_count": 2,
   "metadata": {},
   "outputs": [],
   "source": [
    "ts = np.arange(19277);"
   ]
  },
  {
   "cell_type": "code",
   "execution_count": 3,
   "metadata": {},
   "outputs": [
    {
     "data": {
      "text/plain": [
       "19277"
      ]
     },
     "execution_count": 3,
     "metadata": {},
     "output_type": "execute_result"
    }
   ],
   "source": [
    "ts.shape[0]"
   ]
  },
  {
   "cell_type": "code",
   "execution_count": 4,
   "metadata": {},
   "outputs": [],
   "source": [
    "roll = Rolling_Window(5, ts, 1);"
   ]
  },
  {
   "cell_type": "code",
   "execution_count": 5,
   "metadata": {},
   "outputs": [
    {
     "name": "stdout",
     "output_type": "stream",
     "text": [
      "Rolling Window method\n",
      "---------------------\n",
      "Time series size: 19277 samples\n",
      "Number of splits: 5\n",
      "Fold size: 3855 to 3856 samples (20.0 to 20.0 %)\n",
      "Gap: 0\n",
      "Weights: [1. 1. 1. 1.]\n"
     ]
    }
   ],
   "source": [
    "roll.info()"
   ]
  },
  {
   "cell_type": "code",
   "execution_count": 6,
   "metadata": {},
   "outputs": [
    {
     "data": {
      "text/plain": [
       "5"
      ]
     },
     "execution_count": 6,
     "metadata": {},
     "output_type": "execute_result"
    }
   ],
   "source": [
    "roll.n_splits"
   ]
  },
  {
   "cell_type": "code",
   "execution_count": 7,
   "metadata": {},
   "outputs": [
    {
     "data": {
      "text/plain": [
       "array([    0,  3856,  7712, 11567, 15422, 19277])"
      ]
     },
     "execution_count": 7,
     "metadata": {},
     "output_type": "execute_result"
    }
   ],
   "source": [
    "roll._splitting_ind"
   ]
  },
  {
   "cell_type": "code",
   "execution_count": 8,
   "metadata": {},
   "outputs": [
    {
     "name": "stdout",
     "output_type": "stream",
     "text": [
      "Iteration 1\n",
      "Iteration 2\n",
      "Iteration 3\n",
      "Iteration 4\n"
     ]
    }
   ],
   "source": [
    "for it, (train, test, w) in enumerate(roll.split()):\n",
    "\n",
    "    print(f\"Iteration {it+1}\");"
   ]
  },
  {
   "cell_type": "code",
   "execution_count": 9,
   "metadata": {},
   "outputs": [],
   "source": [
    "new_ts = np.ones(9);"
   ]
  },
  {
   "cell_type": "code",
   "execution_count": 10,
   "metadata": {},
   "outputs": [],
   "source": [
    "roll_new_ts = Rolling_Window(5, new_ts, 1);"
   ]
  },
  {
   "cell_type": "code",
   "execution_count": 11,
   "metadata": {},
   "outputs": [
    {
     "data": {
      "text/plain": [
       "array([0, 2, 4, 6, 8, 9])"
      ]
     },
     "execution_count": 11,
     "metadata": {},
     "output_type": "execute_result"
    }
   ],
   "source": [
    "roll_new_ts._splitting_ind"
   ]
  },
  {
   "cell_type": "code",
   "execution_count": 12,
   "metadata": {},
   "outputs": [
    {
     "name": "stdout",
     "output_type": "stream",
     "text": [
      "Train:  [0 1]\n",
      "Validation:  [2 3]\n",
      "Iteration 1\n",
      "Train:  [2 3]\n",
      "Validation:  [4 5]\n",
      "Iteration 2\n",
      "Train:  [4 5]\n",
      "Validation:  [6 7]\n",
      "Iteration 3\n",
      "Train:  [6 7]\n",
      "Validation:  [8]\n",
      "Iteration 4\n"
     ]
    }
   ],
   "source": [
    "for it, (train, test, w) in enumerate(roll_new_ts.split()):\n",
    "\n",
    "    print(\"Train: \", train);\n",
    "    print(\"Validation: \", test);\n",
    "    print(f\"Iteration {it+1}\");"
   ]
  },
  {
   "cell_type": "code",
   "execution_count": 13,
   "metadata": {},
   "outputs": [],
   "source": [
    "ts_simple = np.ones(16);"
   ]
  },
  {
   "cell_type": "code",
   "execution_count": 14,
   "metadata": {},
   "outputs": [],
   "source": [
    "roll_simple = Rolling_Window(5, ts_simple, 1);"
   ]
  },
  {
   "cell_type": "code",
   "execution_count": 15,
   "metadata": {},
   "outputs": [
    {
     "data": {
      "text/plain": [
       "array([ 0,  4,  7, 10, 13, 16])"
      ]
     },
     "execution_count": 15,
     "metadata": {},
     "output_type": "execute_result"
    }
   ],
   "source": [
    "roll_simple._splitting_ind"
   ]
  },
  {
   "cell_type": "code",
   "execution_count": 16,
   "metadata": {},
   "outputs": [
    {
     "name": "stdout",
     "output_type": "stream",
     "text": [
      "Iteration 1\n",
      "Iteration 2\n",
      "Iteration 3\n",
      "Iteration 4\n"
     ]
    }
   ],
   "source": [
    "for it, (train, test, w) in enumerate(roll_simple.split()):\n",
    "\n",
    "    print(f\"Iteration {it+1}\");"
   ]
  },
  {
   "cell_type": "code",
   "execution_count": 17,
   "metadata": {},
   "outputs": [],
   "source": [
    "gap_roll = Rolling_Window(5, ts, 1, gap=1);"
   ]
  },
  {
   "cell_type": "code",
   "execution_count": 18,
   "metadata": {},
   "outputs": [
    {
     "data": {
      "text/plain": [
       "array([    0,  3856,  7712, 11567, 15422, 19277])"
      ]
     },
     "execution_count": 18,
     "metadata": {},
     "output_type": "execute_result"
    }
   ],
   "source": [
    "gap_roll._splitting_ind"
   ]
  },
  {
   "cell_type": "code",
   "execution_count": 19,
   "metadata": {},
   "outputs": [
    {
     "name": "stdout",
     "output_type": "stream",
     "text": [
      "Iteration 1\n",
      "Iteration 2\n",
      "Iteration 3\n"
     ]
    }
   ],
   "source": [
    "for it, (train, test, w) in enumerate(gap_roll.split()):\n",
    "\n",
    "    print(f\"Iteration {it+1}\");"
   ]
  },
  {
   "cell_type": "code",
   "execution_count": 20,
   "metadata": {},
   "outputs": [],
   "source": [
    "gap_roll_simple = Rolling_Window(5, ts_simple, 1, gap=2);"
   ]
  },
  {
   "cell_type": "code",
   "execution_count": 21,
   "metadata": {},
   "outputs": [
    {
     "data": {
      "text/plain": [
       "array([ 0,  4,  7, 10, 13, 16])"
      ]
     },
     "execution_count": 21,
     "metadata": {},
     "output_type": "execute_result"
    }
   ],
   "source": [
    "gap_roll_simple._splitting_ind"
   ]
  },
  {
   "cell_type": "code",
   "execution_count": 22,
   "metadata": {},
   "outputs": [
    {
     "name": "stdout",
     "output_type": "stream",
     "text": [
      "Train:  [0 1 2 3]\n",
      "Validation:  [10 11 12]\n",
      "Iteration 1\n",
      "Train:  [4 5 6]\n",
      "Validation:  [13 14 15]\n",
      "Iteration 2\n"
     ]
    }
   ],
   "source": [
    "for it, (train, test, w) in enumerate(gap_roll_simple.split()):\n",
    "\n",
    "    print(\"Train: \", train);\n",
    "    print(\"Validation: \", test);\n",
    "    print(f\"Iteration {it+1}\");"
   ]
  },
  {
   "cell_type": "markdown",
   "metadata": {},
   "source": [
    "### Growing window"
   ]
  },
  {
   "cell_type": "code",
   "execution_count": 23,
   "metadata": {},
   "outputs": [],
   "source": [
    "grow = Growing_Window(5, ts, 1);"
   ]
  },
  {
   "cell_type": "code",
   "execution_count": 24,
   "metadata": {},
   "outputs": [
    {
     "data": {
      "text/plain": [
       "array([ 3856,  7712, 11567, 15422, 19277])"
      ]
     },
     "execution_count": 24,
     "metadata": {},
     "output_type": "execute_result"
    }
   ],
   "source": [
    "grow._splitting_ind"
   ]
  },
  {
   "cell_type": "code",
   "execution_count": 25,
   "metadata": {},
   "outputs": [
    {
     "name": "stdout",
     "output_type": "stream",
     "text": [
      "Iteration 1\n",
      "Iteration 2\n",
      "Iteration 3\n",
      "Iteration 4\n"
     ]
    }
   ],
   "source": [
    "for it, (train, test, w) in enumerate(grow.split()):\n",
    "\n",
    "    print(f\"Iteration {it+1}\");"
   ]
  },
  {
   "cell_type": "code",
   "execution_count": 26,
   "metadata": {},
   "outputs": [],
   "source": [
    "grow_simple = Growing_Window(5, ts_simple, 1);"
   ]
  },
  {
   "cell_type": "code",
   "execution_count": 27,
   "metadata": {},
   "outputs": [
    {
     "data": {
      "text/plain": [
       "array([ 4,  7, 10, 13, 16])"
      ]
     },
     "execution_count": 27,
     "metadata": {},
     "output_type": "execute_result"
    }
   ],
   "source": [
    "grow_simple._splitting_ind"
   ]
  },
  {
   "cell_type": "code",
   "execution_count": 28,
   "metadata": {},
   "outputs": [
    {
     "name": "stdout",
     "output_type": "stream",
     "text": [
      "Train:  [0 1 2 3]\n",
      "Validation:  [4 5 6]\n",
      "Iteration 1\n",
      "Train:  [0 1 2 3 4 5 6]\n",
      "Validation:  [7 8 9]\n",
      "Iteration 2\n",
      "Train:  [0 1 2 3 4 5 6 7 8 9]\n",
      "Validation:  [10 11 12]\n",
      "Iteration 3\n",
      "Train:  [ 0  1  2  3  4  5  6  7  8  9 10 11 12]\n",
      "Validation:  [13 14 15]\n",
      "Iteration 4\n"
     ]
    }
   ],
   "source": [
    "for it, (train, test, w) in enumerate(grow_simple.split()):\n",
    "\n",
    "    print(\"Train: \", train);\n",
    "    print(\"Validation: \", test);\n",
    "    print(f\"Iteration {it+1}\");"
   ]
  },
  {
   "cell_type": "code",
   "execution_count": 29,
   "metadata": {},
   "outputs": [],
   "source": [
    "new_grow = Growing_Window(5, new_ts, 1);"
   ]
  },
  {
   "cell_type": "code",
   "execution_count": 30,
   "metadata": {},
   "outputs": [
    {
     "data": {
      "text/plain": [
       "array([2, 4, 6, 8, 9])"
      ]
     },
     "execution_count": 30,
     "metadata": {},
     "output_type": "execute_result"
    }
   ],
   "source": [
    "new_grow._splitting_ind"
   ]
  },
  {
   "cell_type": "code",
   "execution_count": 31,
   "metadata": {},
   "outputs": [
    {
     "name": "stdout",
     "output_type": "stream",
     "text": [
      "Train:  [0 1]\n",
      "Validation:  [2 3]\n",
      "Iteration 1\n",
      "Train:  [0 1 2 3]\n",
      "Validation:  [4 5]\n",
      "Iteration 2\n",
      "Train:  [0 1 2 3 4 5]\n",
      "Validation:  [6 7]\n",
      "Iteration 3\n",
      "Train:  [0 1 2 3 4 5 6 7]\n",
      "Validation:  [8]\n",
      "Iteration 4\n"
     ]
    }
   ],
   "source": [
    "for it, (train, test, w) in enumerate(new_grow.split()):\n",
    "\n",
    "    print(\"Train: \", train);\n",
    "    print(\"Validation: \", test);\n",
    "    print(f\"Iteration {it+1}\");"
   ]
  },
  {
   "cell_type": "markdown",
   "metadata": {},
   "source": [
    "### Block CV"
   ]
  },
  {
   "cell_type": "code",
   "execution_count": 32,
   "metadata": {},
   "outputs": [],
   "source": [
    "block = Block_CV(5, ts, 1);"
   ]
  },
  {
   "cell_type": "code",
   "execution_count": 33,
   "metadata": {},
   "outputs": [
    {
     "data": {
      "text/plain": [
       "array([    0,  3856,  7712, 11567, 15422, 19277])"
      ]
     },
     "execution_count": 33,
     "metadata": {},
     "output_type": "execute_result"
    }
   ],
   "source": [
    "block._splitting_ind"
   ]
  },
  {
   "cell_type": "code",
   "execution_count": 34,
   "metadata": {},
   "outputs": [
    {
     "name": "stdout",
     "output_type": "stream",
     "text": [
      "Iteration 1\n",
      "Iteration 2\n",
      "Iteration 3\n",
      "Iteration 4\n",
      "Iteration 5\n"
     ]
    }
   ],
   "source": [
    "for it, (train, test, w) in enumerate(block.split()):\n",
    "\n",
    "    print(f\"Iteration {it+1}\");"
   ]
  },
  {
   "cell_type": "code",
   "execution_count": 35,
   "metadata": {},
   "outputs": [],
   "source": [
    "block_simple = Block_CV(5, ts_simple, 1);"
   ]
  },
  {
   "cell_type": "code",
   "execution_count": 36,
   "metadata": {},
   "outputs": [
    {
     "data": {
      "text/plain": [
       "array([ 0,  4,  7, 10, 13, 16])"
      ]
     },
     "execution_count": 36,
     "metadata": {},
     "output_type": "execute_result"
    }
   ],
   "source": [
    "block_simple._splitting_ind"
   ]
  },
  {
   "cell_type": "code",
   "execution_count": 37,
   "metadata": {},
   "outputs": [
    {
     "name": "stdout",
     "output_type": "stream",
     "text": [
      "Iteration 1\n",
      "Iteration 2\n",
      "Iteration 3\n",
      "Iteration 4\n",
      "Iteration 5\n"
     ]
    }
   ],
   "source": [
    "for it, (train, test, w) in enumerate(block_simple.split()):\n",
    "\n",
    "    print(f\"Iteration {it+1}\");"
   ]
  },
  {
   "cell_type": "code",
   "execution_count": 38,
   "metadata": {},
   "outputs": [],
   "source": [
    "new_block = Block_CV(5, new_ts, 1);"
   ]
  },
  {
   "cell_type": "code",
   "execution_count": 39,
   "metadata": {},
   "outputs": [
    {
     "data": {
      "text/plain": [
       "array([0, 2, 4, 6, 8, 9])"
      ]
     },
     "execution_count": 39,
     "metadata": {},
     "output_type": "execute_result"
    }
   ],
   "source": [
    "new_block._splitting_ind"
   ]
  },
  {
   "cell_type": "code",
   "execution_count": 40,
   "metadata": {},
   "outputs": [
    {
     "name": "stdout",
     "output_type": "stream",
     "text": [
      "Iteration 1\n",
      "Iteration 2\n",
      "Iteration 3\n",
      "Iteration 4\n",
      "Iteration 5\n"
     ]
    }
   ],
   "source": [
    "for it, (train, test, w) in enumerate(new_block.split()):\n",
    "\n",
    "    print(f\"Iteration {it+1}\");"
   ]
  },
  {
   "cell_type": "code",
   "execution_count": null,
   "metadata": {},
   "outputs": [],
   "source": []
  }
 ],
 "metadata": {
  "kernelspec": {
   "display_name": "TimeCaveEnv",
   "language": "python",
   "name": "python3"
  },
  "language_info": {
   "codemirror_mode": {
    "name": "ipython",
    "version": 3
   },
   "file_extension": ".py",
   "mimetype": "text/x-python",
   "name": "python",
   "nbconvert_exporter": "python",
   "pygments_lexer": "ipython3",
   "version": "3.12.3"
  }
 },
 "nbformat": 4,
 "nbformat_minor": 2
}
