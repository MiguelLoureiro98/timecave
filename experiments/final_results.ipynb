{
 "cells": [
  {
   "cell_type": "code",
   "execution_count": 4,
   "metadata": {},
   "outputs": [],
   "source": [
    "import pandas as pd\n",
    "import numpy as np\n",
    "import re\n",
    "from experiment_utils import get_latest_files\n",
    "from post_processing import series_name, violin_plots_per_iteration, violin_plots, error_estimation, merge_estimates_true, compute_val_metrics, under_over_analysis, under_over_by_method, val_metrics_per_iteration, boxplots, boxplots_per_iteration, add_weights, exponential_weights_paper"
   ]
  },
  {
   "cell_type": "code",
   "execution_count": 2,
   "metadata": {},
   "outputs": [],
   "source": [
    "from experiment_utils import get_freq, get_csv_filenames, get_univariate_series\n",
    "from timecave.data_characteristics import get_features\n",
    "from statsmodels.tsa.stattools import adfuller, kpss"
   ]
  },
  {
   "cell_type": "code",
   "execution_count": 18,
   "metadata": {},
   "outputs": [],
   "source": [
    "meteo_files_A = [\n",
    "    'results/meteorologia/table_A_meteorologia_2024_06_07__15_27_00.csv', #ARMA + Tree\n",
    "    'results/meteorologia/table_A_meteorologia_LSTM_mltemp_2024_07_31__18_12_10.csv', #LSTM mltemp\n",
    "    'results/meteorologia/backups/table_A_meteorologia_LSTM_2024_07_31__15_46_31.csv', #LSTM until jena 2\n",
    "    'results/meteorologia/backups/table_A_meteorologia_LSTM_jena_2024_08_01__05_38_22.csv' #LSTM jena 2 to 6\n",
    "    ]\n",
    "\n",
    "meteo_files_B = [\n",
    "    'results/meteorologia/table_B_meteorologia_2024_06_07__15_27_00.csv', #ARMA + Tree\n",
    "    'results/meteorologia/table_B_meteorologia_LSTM_mltemp_2024_07_31__18_12_10.csv', #LSTM mltemp\n",
    "    'results/meteorologia/backups/table_B_meteorologia_LSTM_2024_07_31__15_46_31.csv', #LSTM until jena 2\n",
    "    'results/meteorologia/backups/table_B_meteorologia_LSTM_jena_2024_08_01__05_38_22.csv' #LSTM jena 2 to 6\n",
    "]"
   ]
  },
  {
   "cell_type": "code",
   "execution_count": 22,
   "metadata": {},
   "outputs": [],
   "source": [
    "eng_ciencias_files_A = [\n",
    "    'results/eng_ciencias/table_A_eng_ciencias_2024_06_06__20_15_36.csv', #ARMA + Tree\n",
    "    'results/eng_ciencias/table_A_eng_ciencias_LSTM_2024_07_30__15_36_20.csv', #LSTM mechanical gear\n",
    "    'results/eng_ciencias/backups/table_A_eng_ciencias_LSTM_torque_2024_08_01__03_32_26.csv', #LSTM torque 2 to 5\n",
    "    'results/eng_ciencias/backups/table_A_eng_ciencias_LSTM_room_torque_2024_07_30__23_44_17.csv', #LSTM room occupancy + torque 0 and 1\n",
    "    'results/eng_ciencias/table_A_eng_ciencias_LSTM_torque_2_4_2024_07_31__23_39_30.csv', #LSTM torque 6 to 7\n",
    "    ]\n",
    "\n",
    "eng_ciencias_files_B = [\n",
    "    'results/eng_ciencias/table_B_eng_ciencias_2024_06_06__20_15_36.csv', #ARMA + Tree\n",
    "    'results/eng_ciencias/table_B_eng_ciencias_LSTM_2024_07_30__15_36_20.csv', #LSTM mechanical gear\n",
    "    'results/eng_ciencias/backups/table_B_eng_ciencias_LSTM_torque_2024_08_01__03_32_26.csv', #LSTM torque 2 to 5\n",
    "    'results/eng_ciencias/backups/table_B_eng_ciencias_LSTM_room_torque_2024_07_30__23_44_17.csv', #LSTM room occupancy + torque 0 and 1\n",
    "    'results/eng_ciencias/table_B_eng_ciencias_LSTM_torque_2_4_2024_07_31__23_39_30.csv', #LSTM torque 6 and 7\n",
    "    ]"
   ]
  },
  {
   "cell_type": "code",
   "execution_count": 26,
   "metadata": {},
   "outputs": [],
   "source": [
    "energia_files_A = [\n",
    "    'results/energia/table_A_energia_2024_06_06__17_51_10.csv', #ARMA + Tree\n",
    "    'results/energia/table_A_energia_LSTM_2024_07_29__19_21_39.csv', #LSTM \n",
    "    ]\n",
    "\n",
    "energia_files_B = [\n",
    "    'results/energia/table_B_energia_2024_06_06__17_51_10.csv', #ARMA + Tree\n",
    "    'results/energia/table_B_energia_LSTM_2024_07_29__19_21_39.csv', #LSTM \n",
    "    ]"
   ]
  },
  {
   "cell_type": "code",
   "execution_count": 61,
   "metadata": {},
   "outputs": [],
   "source": [
    "ambiente_files_A = [\n",
    "    'results/ambiente/table_A_ambiente_2024_06_07__10_15_12.csv', #ARMA + Tree\n",
    "    'results/ambiente/table_A_ambiente_LSTM_2024_07_29__19_44_35.csv', #LSTM \n",
    "    ]\n",
    "\n",
    "ambiente_files_B = [\n",
    "    'results/ambiente/table_B_ambiente_2024_06_07__10_15_12.csv', #ARMA + Tree\n",
    "    'results/ambiente/table_B_ambiente_LSTM_2024_07_29__19_44_35.csv', #LSTM \n",
    "    ]"
   ]
  },
  {
   "cell_type": "code",
   "execution_count": 31,
   "metadata": {},
   "outputs": [],
   "source": [
    "eco_financas_files_A = [\n",
    "    'results/eco_financas/table_A_eco_financas_2024_06_06__17_36_19.csv', #ARMA + Tree\n",
    "    'results/eco_financas/table_A_eco_financas_LSTM_2024_07_29__16_38_42.csv', #LSTM \n",
    "    ]\n",
    "\n",
    "eco_financas_files_B = [\n",
    "    'results/eco_financas/table_B_eco_financas_2024_06_06__17_36_19.csv', #ARMA + Tree\n",
    "    'results/eco_financas/table_B_eco_financas_LSTM_2024_07_29__16_38_42.csv', #LSTM \n",
    "    ]"
   ]
  },
  {
   "cell_type": "code",
   "execution_count": 34,
   "metadata": {},
   "outputs": [],
   "source": [
    "saude_files_A = [\n",
    "    'results/saude/table_A_saude_2024_06_06__15_04_07.csv', #ARMA + Tree\n",
    "    'results/saude/table_A_saude_LSTM_2024_07_29__16_14_31.csv', #LSTM \n",
    "    ]\n",
    "\n",
    "saude_files_B = [\n",
    "    'results/saude/table_B_saude_2024_06_06__15_04_07.csv', #ARMA + Tree\n",
    "    'results/saude/table_B_saude_LSTM_2024_07_29__16_14_31.csv', #LSTM \n",
    "    ]"
   ]
  },
  {
   "cell_type": "code",
   "execution_count": 37,
   "metadata": {},
   "outputs": [],
   "source": [
    "transportes_files_A = [\n",
    "    'results/transportes/table_A_transportes_2024_06_06__10_53_40.csv', #ARMA + Tree\n",
    "    'results/transportes/table_A_transportes_LSTM_2024_07_30__11_11_37.csv', #LSTM \n",
    "    ]\n",
    "\n",
    "transportes_files_B = [\n",
    "    'results/transportes/table_B_transportes_2024_06_06__10_53_40.csv', #ARMA + Tree\n",
    "    'results/transportes/table_B_transportes_LSTM_2024_07_30__11_11_37.csv', #LSTM \n",
    "    ]"
   ]
  },
  {
   "cell_type": "code",
   "execution_count": 48,
   "metadata": {},
   "outputs": [],
   "source": [
    "s1_files_A = [\n",
    "    'results/s1/table_A_s1_0_200_2024_06_07__11_28_28.csv', #ARMA + Tree\n",
    "    'results/s1/table_A_s1_200_1001_2024_06_07__12_00_51.csv', #ARMA + Tree\n",
    "    'results/s1/backups/table_A_s1_0_200_LSTM_2024_06_12__15_47_10.csv', #LSTM 0 to 109,\n",
    "    'results/s1/backups/table_A_s1_110_200_LSTM_2024_06_12__17_56_42.csv', #LSTM 109 to 199,\n",
    "    'results/s1/backups/table_A_s1_200_1000_LSTM_2024_06_14__13_47_27.csv', #LSTM 200 to 308,\n",
    "    'results/s1/backups/table_A_s1_309_1000_LSTM_2024_06_18__16_11_20.csv', #LSTM 309 to 413,\n",
    "    'results/s1/backups/table_A_s1_414_1000_LSTM_2024_06_19__12_57_51.csv', #LSTM 414 to 520\n",
    "    'results/s1/backups/table_A_s1_521_1000_LSTM_2024_07_29__16_45_01.csv', #LSTM 521 to 679\n",
    "    'results/s1/backups/table_A_s1_680_1000_LSTM_2024_07_30__13_07_29.csv', #LSTM 680 to 838\n",
    "    'results/s1/backups/table_A_s1_839_1000_LSTM_2024_07_30__17_50_55.csv', #LSTM 839 to 996\n",
    "    'results/s1/table_A_s1_997_1000_LSTM_2024_07_31__13_25_05.csv', #LSTM 996 to 999\n",
    "    ]\n",
    "\n",
    "s1_files_B = [\n",
    "    'results/s1/table_B_s1_0_200_2024_06_07__11_28_28.csv', #ARMA + Tree\n",
    "    'results/s1/table_B_s1_200_1001_2024_06_07__12_00_51.csv', #ARMA + Tree\n",
    "    'results/s1/backups/table_B_s1_0_200_LSTM_2024_06_12__15_47_10.csv', #LSTM 0 to 109,\n",
    "    'results/s1/backups/table_B_s1_110_200_LSTM_2024_06_12__17_56_42.csv', #LSTM 109 to 199,\n",
    "    'results/s1/backups/table_B_s1_200_1000_LSTM_2024_06_14__13_47_27.csv', #LSTM 200 to 308,\n",
    "    'results/s1/backups/table_B_s1_309_1000_LSTM_2024_06_18__16_11_20.csv', #LSTM 309 to 413,\n",
    "    'results/s1/backups/table_B_s1_414_1000_LSTM_2024_06_19__12_57_51.csv', #LSTM 414 to 520\n",
    "    'results/s1/backups/table_B_s1_521_1000_LSTM_2024_07_29__16_45_01.csv', #LSTM 521 to 679\n",
    "    'results/s1/backups/table_B_s1_680_1000_LSTM_2024_07_30__13_07_29.csv', #LSTM 680 to 838\n",
    "    'results/s1/backups/table_B_s1_839_1000_LSTM_2024_07_30__17_50_55.csv', #LSTM 839 to 996\n",
    "    'results/s1/table_B_s1_997_1000_LSTM_2024_07_31__13_25_05.csv', #LSTM 996 to 999\n",
    "    ]"
   ]
  },
  {
   "cell_type": "code",
   "execution_count": 51,
   "metadata": {},
   "outputs": [],
   "source": [
    "s2_files_A = [\n",
    "    'results/s2/table_A_s2_0_200_2024_06_07__11_38_43.csv', #ARMA + Tree\n",
    "    'results/s2/table_A_s2_200_1001_2024_06_07__12_11_58.csv', #ARMA + Tree\n",
    "    'results/s2/backups/table_A_s2_0_200_LSTM_2024_06_12__14_35_25.csv', #LSTM 0 to 80\n",
    "    'results/s2/backups/table_A_s2_81_200_LSTM_2024_06_12__17_45_25.csv', #LSTM 81 to 175\n",
    "    'results/s2/backups/table_A_s2_176_200_LSTM_2024_06_14__10_20_50.csv', #LSTM 176 to 199\n",
    "    'results/s2/backups/table_A_s2_200_1000_LSTM_2024_06_18__15_22_58.csv', #LSTM 200 to 310 \n",
    "    'results/s2/backups/table_A_s2_311_1000_LSTM_2024_06_20__12_50_57.csv', #LSTM 311 to 421\n",
    "    'results/s2/backups/table_A_s2_422_1000_LSTM_2024_06_20__16_42_02.csv', #LSTM 422 to 532\n",
    "    'results/s2/backups/table_A_s2_533_1000_LSTM_2024_06_20__19_08_35.csv', #LSTM 533 to 644 \n",
    "    'results/s2/backups/table_A_s2_645_1000_LSTM_2024_06_21__12_32_08.csv', #LSTM 645 to 755 \n",
    "    'results/s2/backups/table_A_s2_756_1000_LSTM_2024_07_29__16_47_25.csv', #LSTM 756 to 913\n",
    "    'results/s2/table_A_s2_914_1000_LSTM_2024_07_30__11_50_49.csv', #LSTM 914 to 999\n",
    "    ]\n",
    "\n",
    "s2_files_B = [\n",
    "    'results/s2/table_B_s2_0_200_2024_06_07__11_38_43.csv', #ARMA + Tree\n",
    "    'results/s2/table_B_s2_200_1001_2024_06_07__12_11_58.csv', #ARMA + Tree\n",
    "    'results/s2/backups/table_B_s2_0_200_LSTM_2024_06_12__14_35_25.csv', #LSTM 0 to 80\n",
    "    'results/s2/backups/table_B_s2_81_200_LSTM_2024_06_12__17_45_25.csv', #LSTM 81 to 175\n",
    "    'results/s2/backups/table_B_s2_176_200_LSTM_2024_06_14__10_20_50.csv', #LSTM 176 to 199\n",
    "    'results/s2/backups/table_B_s2_200_1000_LSTM_2024_06_18__15_22_58.csv', #LSTM 200 to 310 \n",
    "    'results/s2/backups/table_B_s2_311_1000_LSTM_2024_06_20__12_50_57.csv', #LSTM 311 to 421\n",
    "    'results/s2/backups/table_B_s2_422_1000_LSTM_2024_06_20__16_42_02.csv', #LSTM 422 to 532\n",
    "    'results/s2/backups/table_B_s2_533_1000_LSTM_2024_06_20__19_08_35.csv', #LSTM 533 to 644 \n",
    "    'results/s2/backups/table_B_s2_645_1000_LSTM_2024_06_21__12_32_08.csv', #LSTM 645 to 755 \n",
    "    'results/s2/backups/table_B_s2_756_1000_LSTM_2024_07_29__16_47_25.csv', #LSTM 756 to 913\n",
    "    'results/s2/table_B_s2_914_1000_LSTM_2024_07_30__11_50_49.csv', #LSTM 914 to 999\n",
    "    ]"
   ]
  },
  {
   "cell_type": "code",
   "execution_count": 54,
   "metadata": {},
   "outputs": [],
   "source": [
    "s3_files_A = [\n",
    "    'results/s3/table_A_s3_2024_06_07__17_30_48.csv', #ARMA + Tree\n",
    "    'results/s3/backups/table_A_s3_2024_07_29__16_58_30.csv', #LSTM 0 to 158\n",
    "    'results/s3/backups/table_A_s3_159_1000_LSTM_2024_07_30__12_49_29.csv', #LSTM 159 to 317\n",
    "    'results/s3/backups/table_A_s3_318_1000_LSTM_2024_07_30__17_53_55.csv', #LSTM 318 to 476\n",
    "    'results/s3/backups/table_A_s3_477_1000_LSTM_2024_07_31__16_48_33.csv', #LSTM 477 to 708\n",
    "    'results/s3/backups/table_A_s3_694_1000_LSTM_2024_07_31__20_30_32.csv', #LSTM 694 to 936\n",
    "    #'results/s3/table_A_s3_937_1000_LSTM_??????????.csv', #LSTM  to \n",
    "    ]\n",
    "\n",
    "s3_files_B = [\n",
    "    'results/s3/table_B_s3_2024_06_07__17_30_48.csv', #ARMA + Tree\n",
    "    'results/s3/backups/table_B_s3_2024_07_29__16_58_30.csv', #LSTM 0 to 158\n",
    "    'results/s3/backups/table_B_s3_159_1000_LSTM_2024_07_30__12_49_29.csv', #LSTM 159 to 317\n",
    "    'results/s3/backups/table_B_s3_318_1000_LSTM_2024_07_30__17_53_55.csv', #LSTM 318 to 476\n",
    "    'results/s3/backups/table_B_s3_477_1000_LSTM_2024_07_31__16_48_33.csv', #LSTM 477 to 708\n",
    "    'results/s3/backups/table_B_s3_694_1000_LSTM_2024_07_31__20_30_32.csv', #LSTM 694 to 936\n",
    "    #'results/s3/table_B_s3_937_1000_LSTM_??????????.csv', #LSTM  to \n",
    "    ]"
   ]
  },
  {
   "cell_type": "code",
   "execution_count": 11,
   "metadata": {},
   "outputs": [],
   "source": [
    "def concat_files(files: list[str]):\n",
    "    dfs = []\n",
    "    for file in files:\n",
    "        dfs.append(pd.read_csv(file))\n",
    "    return pd.concat(dfs, ignore_index=True)\n"
   ]
  },
  {
   "cell_type": "code",
   "execution_count": 62,
   "metadata": {},
   "outputs": [],
   "source": [
    "meteo_table_A = concat_files(meteo_files_A)\n",
    "meteo_table_B = concat_files(meteo_files_B)\n",
    "eng_ciencias_table_A = concat_files(eng_ciencias_files_A)\n",
    "eng_ciencias_table_B = concat_files(eng_ciencias_files_B)\n",
    "energia_table_A = concat_files(energia_files_A)\n",
    "energia_table_B = concat_files(energia_files_B)\n",
    "eco_financas_table_A = concat_files(eco_financas_files_A)\n",
    "eco_financas_table_B = concat_files(eco_financas_files_B)\n",
    "saude_table_A = concat_files(saude_files_A)\n",
    "saude_table_B = concat_files(saude_files_B)\n",
    "transportes_table_A = concat_files(transportes_files_A)\n",
    "transportes_table_B = concat_files(transportes_files_B)\n",
    "ambiente_table_A = concat_files(ambiente_files_A)\n",
    "ambiente_table_B = concat_files(ambiente_files_B)"
   ]
  },
  {
   "cell_type": "code",
   "execution_count": 67,
   "metadata": {},
   "outputs": [
    {
     "data": {
      "text/plain": [
       "filename        0\n",
       "column_index    0\n",
       "method          0\n",
       "iteration       0\n",
       "model           0\n",
       "mse             0\n",
       "mae             0\n",
       "rmse            0\n",
       "dtype: int64"
      ]
     },
     "execution_count": 67,
     "metadata": {},
     "output_type": "execute_result"
    }
   ],
   "source": [
    "saude_table_A.isna().sum()"
   ]
  },
  {
   "cell_type": "code",
   "execution_count": 55,
   "metadata": {},
   "outputs": [],
   "source": [
    "s1_table_A = concat_files(s1_files_A)\n",
    "s1_table_B = concat_files(s1_files_B)\n",
    "s2_table_A = concat_files(s2_files_A)\n",
    "s2_table_B = concat_files(s2_files_B)\n",
    "s3_table_A = concat_files(s3_files_A)\n",
    "s3_table_B = concat_files(s3_files_B)"
   ]
  },
  {
   "cell_type": "code",
   "execution_count": 63,
   "metadata": {},
   "outputs": [
    {
     "data": {
      "text/html": [
       "<div>\n",
       "<style scoped>\n",
       "    .dataframe tbody tr th:only-of-type {\n",
       "        vertical-align: middle;\n",
       "    }\n",
       "\n",
       "    .dataframe tbody tr th {\n",
       "        vertical-align: top;\n",
       "    }\n",
       "\n",
       "    .dataframe thead th {\n",
       "        text-align: right;\n",
       "    }\n",
       "</style>\n",
       "<table border=\"1\" class=\"dataframe\">\n",
       "  <thead>\n",
       "    <tr style=\"text-align: right;\">\n",
       "      <th></th>\n",
       "      <th>filename</th>\n",
       "      <th>column_index</th>\n",
       "      <th>method</th>\n",
       "      <th>iteration</th>\n",
       "      <th>model</th>\n",
       "      <th>mse</th>\n",
       "      <th>mae</th>\n",
       "      <th>rmse</th>\n",
       "    </tr>\n",
       "  </thead>\n",
       "  <tbody>\n",
       "    <tr>\n",
       "      <th>0</th>\n",
       "      <td>datasets/processed_data/aire_discharge_environ...</td>\n",
       "      <td>0</td>\n",
       "      <td>&lt;timecave.validation_methods.OOS.Holdout objec...</td>\n",
       "      <td>0</td>\n",
       "      <td>Tree</td>\n",
       "      <td>62.081594</td>\n",
       "      <td>4.285090</td>\n",
       "      <td>7.879187</td>\n",
       "    </tr>\n",
       "    <tr>\n",
       "      <th>1</th>\n",
       "      <td>datasets/processed_data/aire_discharge_environ...</td>\n",
       "      <td>0</td>\n",
       "      <td>&lt;timecave.validation_methods.OOS.Holdout objec...</td>\n",
       "      <td>0</td>\n",
       "      <td>ARMA</td>\n",
       "      <td>43.947064</td>\n",
       "      <td>3.932643</td>\n",
       "      <td>6.629258</td>\n",
       "    </tr>\n",
       "    <tr>\n",
       "      <th>2</th>\n",
       "      <td>datasets/processed_data/aire_discharge_environ...</td>\n",
       "      <td>0</td>\n",
       "      <td>&lt;timecave.validation_methods.OOS.Repeated_Hold...</td>\n",
       "      <td>0</td>\n",
       "      <td>Tree</td>\n",
       "      <td>60.329963</td>\n",
       "      <td>4.246909</td>\n",
       "      <td>7.767236</td>\n",
       "    </tr>\n",
       "    <tr>\n",
       "      <th>3</th>\n",
       "      <td>datasets/processed_data/aire_discharge_environ...</td>\n",
       "      <td>0</td>\n",
       "      <td>&lt;timecave.validation_methods.OOS.Repeated_Hold...</td>\n",
       "      <td>0</td>\n",
       "      <td>ARMA</td>\n",
       "      <td>42.022713</td>\n",
       "      <td>3.898933</td>\n",
       "      <td>6.482493</td>\n",
       "    </tr>\n",
       "    <tr>\n",
       "      <th>4</th>\n",
       "      <td>datasets/processed_data/aire_discharge_environ...</td>\n",
       "      <td>0</td>\n",
       "      <td>&lt;timecave.validation_methods.OOS.Repeated_Hold...</td>\n",
       "      <td>1</td>\n",
       "      <td>Tree</td>\n",
       "      <td>60.854273</td>\n",
       "      <td>4.296166</td>\n",
       "      <td>7.800915</td>\n",
       "    </tr>\n",
       "    <tr>\n",
       "      <th>...</th>\n",
       "      <td>...</td>\n",
       "      <td>...</td>\n",
       "      <td>...</td>\n",
       "      <td>...</td>\n",
       "      <td>...</td>\n",
       "      <td>...</td>\n",
       "      <td>...</td>\n",
       "      <td>...</td>\n",
       "    </tr>\n",
       "    <tr>\n",
       "      <th>3271</th>\n",
       "      <td>datasets/processed_data/forest_fires_Rio_Janei...</td>\n",
       "      <td>0</td>\n",
       "      <td>&lt;timecave.validation_methods.markov.MarkovCV o...</td>\n",
       "      <td>5</td>\n",
       "      <td>LSTM</td>\n",
       "      <td>5506.652331</td>\n",
       "      <td>45.211547</td>\n",
       "      <td>74.206821</td>\n",
       "    </tr>\n",
       "    <tr>\n",
       "      <th>3272</th>\n",
       "      <td>datasets/processed_data/forest_fires_Rio_Janei...</td>\n",
       "      <td>0</td>\n",
       "      <td>&lt;timecave.validation_methods.markov.MarkovCV o...</td>\n",
       "      <td>6</td>\n",
       "      <td>LSTM</td>\n",
       "      <td>15954.401677</td>\n",
       "      <td>62.104035</td>\n",
       "      <td>126.310735</td>\n",
       "    </tr>\n",
       "    <tr>\n",
       "      <th>3273</th>\n",
       "      <td>datasets/processed_data/forest_fires_Rio_Janei...</td>\n",
       "      <td>0</td>\n",
       "      <td>&lt;timecave.validation_methods.markov.MarkovCV o...</td>\n",
       "      <td>7</td>\n",
       "      <td>LSTM</td>\n",
       "      <td>8004.827173</td>\n",
       "      <td>51.711939</td>\n",
       "      <td>89.469700</td>\n",
       "    </tr>\n",
       "    <tr>\n",
       "      <th>3274</th>\n",
       "      <td>datasets/processed_data/forest_fires_Rio_Janei...</td>\n",
       "      <td>0</td>\n",
       "      <td>&lt;timecave.validation_methods.markov.MarkovCV o...</td>\n",
       "      <td>8</td>\n",
       "      <td>LSTM</td>\n",
       "      <td>12534.636870</td>\n",
       "      <td>68.677553</td>\n",
       "      <td>111.958193</td>\n",
       "    </tr>\n",
       "    <tr>\n",
       "      <th>3275</th>\n",
       "      <td>datasets/processed_data/forest_fires_Rio_Janei...</td>\n",
       "      <td>0</td>\n",
       "      <td>&lt;timecave.validation_methods.markov.MarkovCV o...</td>\n",
       "      <td>9</td>\n",
       "      <td>LSTM</td>\n",
       "      <td>7052.576110</td>\n",
       "      <td>52.026040</td>\n",
       "      <td>83.979617</td>\n",
       "    </tr>\n",
       "  </tbody>\n",
       "</table>\n",
       "<p>3276 rows × 8 columns</p>\n",
       "</div>"
      ],
      "text/plain": [
       "                                               filename  column_index  \\\n",
       "0     datasets/processed_data/aire_discharge_environ...             0   \n",
       "1     datasets/processed_data/aire_discharge_environ...             0   \n",
       "2     datasets/processed_data/aire_discharge_environ...             0   \n",
       "3     datasets/processed_data/aire_discharge_environ...             0   \n",
       "4     datasets/processed_data/aire_discharge_environ...             0   \n",
       "...                                                 ...           ...   \n",
       "3271  datasets/processed_data/forest_fires_Rio_Janei...             0   \n",
       "3272  datasets/processed_data/forest_fires_Rio_Janei...             0   \n",
       "3273  datasets/processed_data/forest_fires_Rio_Janei...             0   \n",
       "3274  datasets/processed_data/forest_fires_Rio_Janei...             0   \n",
       "3275  datasets/processed_data/forest_fires_Rio_Janei...             0   \n",
       "\n",
       "                                                 method  iteration model  \\\n",
       "0     <timecave.validation_methods.OOS.Holdout objec...          0  Tree   \n",
       "1     <timecave.validation_methods.OOS.Holdout objec...          0  ARMA   \n",
       "2     <timecave.validation_methods.OOS.Repeated_Hold...          0  Tree   \n",
       "3     <timecave.validation_methods.OOS.Repeated_Hold...          0  ARMA   \n",
       "4     <timecave.validation_methods.OOS.Repeated_Hold...          1  Tree   \n",
       "...                                                 ...        ...   ...   \n",
       "3271  <timecave.validation_methods.markov.MarkovCV o...          5  LSTM   \n",
       "3272  <timecave.validation_methods.markov.MarkovCV o...          6  LSTM   \n",
       "3273  <timecave.validation_methods.markov.MarkovCV o...          7  LSTM   \n",
       "3274  <timecave.validation_methods.markov.MarkovCV o...          8  LSTM   \n",
       "3275  <timecave.validation_methods.markov.MarkovCV o...          9  LSTM   \n",
       "\n",
       "               mse        mae        rmse  \n",
       "0        62.081594   4.285090    7.879187  \n",
       "1        43.947064   3.932643    6.629258  \n",
       "2        60.329963   4.246909    7.767236  \n",
       "3        42.022713   3.898933    6.482493  \n",
       "4        60.854273   4.296166    7.800915  \n",
       "...            ...        ...         ...  \n",
       "3271   5506.652331  45.211547   74.206821  \n",
       "3272  15954.401677  62.104035  126.310735  \n",
       "3273   8004.827173  51.711939   89.469700  \n",
       "3274  12534.636870  68.677553  111.958193  \n",
       "3275   7052.576110  52.026040   83.979617  \n",
       "\n",
       "[3276 rows x 8 columns]"
      ]
     },
     "execution_count": 63,
     "metadata": {},
     "output_type": "execute_result"
    }
   ],
   "source": [
    "ambiente_table_A"
   ]
  },
  {
   "cell_type": "code",
   "execution_count": 69,
   "metadata": {},
   "outputs": [],
   "source": [
    "#ambiente_table_A.to_csv('results/ambiente/table_A_ambiente.csv', index=False)\n",
    "ambiente_table_B.to_csv('results/ambiente/table_B_ambiente.csv', index=False)"
   ]
  },
  {
   "cell_type": "code",
   "execution_count": 68,
   "metadata": {},
   "outputs": [],
   "source": [
    "#meteo_table_A.to_csv('results/meteorologia/table_A_meteorologia.csv', index=False)\n",
    "#meteo_table_B.to_csv('results/meteorologia/table_B_meteorologia.csv', index=False)"
   ]
  },
  {
   "cell_type": "code",
   "execution_count": 24,
   "metadata": {},
   "outputs": [],
   "source": [
    "#eng_ciencias_table_A.to_csv('results/eng_ciencias/table_A_eng_ciencias.csv', index=False)\n",
    "#eng_ciencias_table_B.to_csv('results/eng_ciencias/table_B_eng_ciencias.csv', index=False)"
   ]
  },
  {
   "cell_type": "code",
   "execution_count": 30,
   "metadata": {},
   "outputs": [],
   "source": [
    "#energia_table_A.to_csv('results/energia/table_A_energia.csv', index=False)\n",
    "#energia_table_B.to_csv('results/energia/table_B_energia.csv', index=False)"
   ]
  },
  {
   "cell_type": "code",
   "execution_count": 33,
   "metadata": {},
   "outputs": [],
   "source": [
    "#eco_financas_table_A.to_csv('results/eco_financas/table_A_eco_financas.csv', index=False)\n",
    "#eco_financas_table_B.to_csv('results/eco_financas/table_B_eco_financas.csv', index=False)"
   ]
  },
  {
   "cell_type": "code",
   "execution_count": 36,
   "metadata": {},
   "outputs": [],
   "source": [
    "#saude_table_A.to_csv('results/saude/table_A_saude.csv', index=False)\n",
    "#saude_table_B.to_csv('results/saude/table_B_saude.csv', index=False)"
   ]
  },
  {
   "cell_type": "code",
   "execution_count": 39,
   "metadata": {},
   "outputs": [],
   "source": [
    "#transportes_table_A.to_csv('results/transportes/table_A_transportes.csv', index=False)\n",
    "#transportes_table_B.to_csv('results/transportes/table_B_transportes.csv', index=False)"
   ]
  },
  {
   "cell_type": "code",
   "execution_count": 46,
   "metadata": {},
   "outputs": [],
   "source": [
    "#s1_table_A.to_csv('results/s1/table_A_s1.csv', index=False)\n",
    "#s1_table_B.to_csv('results/s1/table_B_s1.csv', index=False)"
   ]
  },
  {
   "cell_type": "code",
   "execution_count": 53,
   "metadata": {},
   "outputs": [],
   "source": [
    "#s2_table_A.to_csv('results/s1/table_A_s2.csv', index=False)\n",
    "#s2_table_B.to_csv('results/s1/table_B_s2.csv', index=False)"
   ]
  }
 ],
 "metadata": {
  "kernelspec": {
   "display_name": "TimeCaveEnv",
   "language": "python",
   "name": "python3"
  },
  "language_info": {
   "codemirror_mode": {
    "name": "ipython",
    "version": 3
   },
   "file_extension": ".py",
   "mimetype": "text/x-python",
   "name": "python",
   "nbconvert_exporter": "python",
   "pygments_lexer": "ipython3",
   "version": "3.12.3"
  }
 },
 "nbformat": 4,
 "nbformat_minor": 2
}
