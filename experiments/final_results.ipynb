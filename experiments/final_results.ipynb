{
 "cells": [
  {
   "cell_type": "code",
   "execution_count": 4,
   "metadata": {},
   "outputs": [],
   "source": [
    "import pandas as pd\n",
    "import numpy as np\n",
    "import re\n",
    "from experiment_utils import get_latest_files\n",
    "from post_processing import series_name, violin_plots_per_iteration, violin_plots, error_estimation, merge_estimates_true, compute_val_metrics, under_over_analysis, under_over_by_method, val_metrics_per_iteration, boxplots, boxplots_per_iteration, add_weights, exponential_weights_paper"
   ]
  },
  {
   "cell_type": "code",
   "execution_count": 2,
   "metadata": {},
   "outputs": [],
   "source": [
    "from experiment_utils import get_freq, get_csv_filenames, get_univariate_series\n",
    "from timecave.data_characteristics import get_features\n",
    "from statsmodels.tsa.stattools import adfuller, kpss"
   ]
  },
  {
   "cell_type": "code",
   "execution_count": 18,
   "metadata": {},
   "outputs": [],
   "source": [
    "meteo_files_A = [\n",
    "    'results/meteorologia/table_A_meteorologia_2024_06_07__15_27_00.csv', #ARMA + Tree\n",
    "    'results/meteorologia/table_A_meteorologia_LSTM_mltemp_2024_07_31__18_12_10.csv', #LSTM mltemp\n",
    "    'results/meteorologia/backups/table_A_meteorologia_LSTM_2024_07_31__15_46_31.csv', #LSTM until jena 2\n",
    "    'results/meteorologia/backups/table_A_meteorologia_LSTM_jena_2024_08_01__05_38_22.csv' #LSTM jena 2 to 6\n",
    "    ]\n",
    "\n",
    "meteo_files_B = [\n",
    "    'results/meteorologia/table_B_meteorologia_2024_06_07__15_27_00.csv', #ARMA + Tree\n",
    "    'results/meteorologia/table_B_meteorologia_LSTM_mltemp_2024_07_31__18_12_10.csv', #LSTM mltemp\n",
    "    'results/meteorologia/backups/table_B_meteorologia_LSTM_2024_07_31__15_46_31.csv', #LSTM until jena 2\n",
    "    'results/meteorologia/backups/table_B_meteorologia_LSTM_jena_2024_08_01__05_38_22.csv' #LSTM jena 2 to 6\n",
    "]"
   ]
  },
  {
   "cell_type": "code",
   "execution_count": 22,
   "metadata": {},
   "outputs": [],
   "source": [
    "eng_ciencias_files_A = [\n",
    "    'results/eng_ciencias/table_A_eng_ciencias_2024_06_06__20_15_36.csv', #ARMA + Tree\n",
    "    'results/eng_ciencias/table_A_eng_ciencias_LSTM_2024_07_30__15_36_20.csv', #LSTM mechanical gear\n",
    "    'results/eng_ciencias/backups/table_A_eng_ciencias_LSTM_torque_2024_08_01__03_32_26.csv', #LSTM torque 2 to 5\n",
    "    'results/eng_ciencias/backups/table_A_eng_ciencias_LSTM_room_torque_2024_07_30__23_44_17.csv', #LSTM room occupancy + torque 0 and 1\n",
    "    'results/eng_ciencias/table_A_eng_ciencias_LSTM_torque_2_4_2024_07_31__23_39_30.csv', #LSTM torque 6 to 7\n",
    "    ]\n",
    "\n",
    "eng_ciencias_files_B = [\n",
    "    'results/eng_ciencias/table_B_eng_ciencias_2024_06_06__20_15_36.csv', #ARMA + Tree\n",
    "    'results/eng_ciencias/table_B_eng_ciencias_LSTM_2024_07_30__15_36_20.csv', #LSTM mechanical gear\n",
    "    'results/eng_ciencias/backups/table_B_eng_ciencias_LSTM_torque_2024_08_01__03_32_26.csv', #LSTM torque 2 to 5\n",
    "    'results/eng_ciencias/backups/table_B_eng_ciencias_LSTM_room_torque_2024_07_30__23_44_17.csv', #LSTM room occupancy + torque 0 and 1\n",
    "    'results/eng_ciencias/table_B_eng_ciencias_LSTM_torque_2_4_2024_07_31__23_39_30.csv', #LSTM torque 6 and 7\n",
    "    ]"
   ]
  },
  {
   "cell_type": "code",
   "execution_count": 26,
   "metadata": {},
   "outputs": [],
   "source": [
    "energia_files_A = [\n",
    "    'results/energia/table_A_energia_2024_06_06__17_51_10.csv', #ARMA + Tree\n",
    "    'results/energia/table_A_energia_LSTM_2024_07_29__19_21_39.csv', #LSTM \n",
    "    ]\n",
    "\n",
    "energia_files_B = [\n",
    "    'results/energia/table_B_energia_2024_06_06__17_51_10.csv', #ARMA + Tree\n",
    "    'results/energia/table_B_energia_LSTM_2024_07_29__19_21_39.csv', #LSTM \n",
    "    ]"
   ]
  },
  {
   "cell_type": "code",
   "execution_count": 31,
   "metadata": {},
   "outputs": [],
   "source": [
    "eco_financas_files_A = [\n",
    "    'results/eco_financas/table_A_eco_financas_2024_06_06__17_36_19.csv', #ARMA + Tree\n",
    "    'results/eco_financas/table_A_eco_financas_LSTM_2024_07_29__16_38_42.csv', #LSTM \n",
    "    ]\n",
    "\n",
    "eco_financas_files_B = [\n",
    "    'results/eco_financas/table_B_eco_financas_2024_06_06__17_36_19.csv', #ARMA + Tree\n",
    "    'results/eco_financas/table_B_eco_financas_LSTM_2024_07_29__16_38_42.csv', #LSTM \n",
    "    ]"
   ]
  },
  {
   "cell_type": "code",
   "execution_count": 34,
   "metadata": {},
   "outputs": [],
   "source": [
    "saude_files_A = [\n",
    "    'results/saude/table_A_saude_2024_06_06__15_04_07.csv', #ARMA + Tree\n",
    "    'results/saude/table_A_saude_LSTM_2024_07_29__16_14_31.csv', #LSTM \n",
    "    ]\n",
    "\n",
    "saude_files_B = [\n",
    "    'results/saude/table_B_saude_2024_06_06__15_04_07.csv', #ARMA + Tree\n",
    "    'results/saude/table_B_saude_LSTM_2024_07_29__16_14_31.csv', #LSTM \n",
    "    ]"
   ]
  },
  {
   "cell_type": "code",
   "execution_count": 37,
   "metadata": {},
   "outputs": [],
   "source": [
    "transportes_files_A = [\n",
    "    'results/transportes/table_A_transportes_2024_06_06__10_53_40.csv', #ARMA + Tree\n",
    "    'results/transportes/table_A_transportes_LSTM_2024_07_30__11_11_37.csv', #LSTM \n",
    "    ]\n",
    "\n",
    "transportes_files_B = [\n",
    "    'results/transportes/table_B_transportes_2024_06_06__10_53_40.csv', #ARMA + Tree\n",
    "    'results/transportes/table_B_transportes_LSTM_2024_07_30__11_11_37.csv', #LSTM \n",
    "    ]"
   ]
  },
  {
   "cell_type": "code",
   "execution_count": 48,
   "metadata": {},
   "outputs": [],
   "source": [
    "s1_files_A = [\n",
    "    'results/s1/table_A_s1_0_200_2024_06_07__11_28_28.csv', #ARMA + Tree\n",
    "    'results/s1/table_A_s1_200_1001_2024_06_07__12_00_51.csv', #ARMA + Tree\n",
    "    'results/s1/backups/table_A_s1_0_200_LSTM_2024_06_12__15_47_10.csv', #LSTM 0 to 109,\n",
    "    'results/s1/backups/table_A_s1_110_200_LSTM_2024_06_12__17_56_42.csv', #LSTM 109 to 199,\n",
    "    'results/s1/backups/table_A_s1_200_1000_LSTM_2024_06_14__13_47_27.csv', #LSTM 200 to 308,\n",
    "    'results/s1/backups/table_A_s1_309_1000_LSTM_2024_06_18__16_11_20.csv', #LSTM 309 to 413,\n",
    "    'results/s1/backups/table_A_s1_414_1000_LSTM_2024_06_19__12_57_51.csv', #LSTM 414 to 520\n",
    "    'results/s1/backups/table_A_s1_521_1000_LSTM_2024_07_29__16_45_01.csv', #LSTM 521 to 679\n",
    "    'results/s1/backups/table_A_s1_680_1000_LSTM_2024_07_30__13_07_29.csv', #LSTM 680 to 838\n",
    "    'results/s1/backups/table_A_s1_839_1000_LSTM_2024_07_30__17_50_55.csv', #LSTM 839 to 996\n",
    "    'results/s1/table_A_s1_997_1000_LSTM_2024_07_31__13_25_05.csv', #LSTM 996 to 999\n",
    "    ]\n",
    "\n",
    "s1_files_B = [\n",
    "    'results/s1/table_B_s1_0_200_2024_06_07__11_28_28.csv', #ARMA + Tree\n",
    "    'results/s1/table_B_s1_200_1001_2024_06_07__12_00_51.csv', #ARMA + Tree\n",
    "    'results/s1/backups/table_B_s1_0_200_LSTM_2024_06_12__15_47_10.csv', #LSTM 0 to 109,\n",
    "    'results/s1/backups/table_B_s1_110_200_LSTM_2024_06_12__17_56_42.csv', #LSTM 109 to 199,\n",
    "    'results/s1/backups/table_B_s1_200_1000_LSTM_2024_06_14__13_47_27.csv', #LSTM 200 to 308,\n",
    "    'results/s1/backups/table_B_s1_309_1000_LSTM_2024_06_18__16_11_20.csv', #LSTM 309 to 413,\n",
    "    'results/s1/backups/table_B_s1_414_1000_LSTM_2024_06_19__12_57_51.csv', #LSTM 414 to 520\n",
    "    'results/s1/backups/table_B_s1_521_1000_LSTM_2024_07_29__16_45_01.csv', #LSTM 521 to 679\n",
    "    'results/s1/backups/table_B_s1_680_1000_LSTM_2024_07_30__13_07_29.csv', #LSTM 680 to 838\n",
    "    'results/s1/backups/table_B_s1_839_1000_LSTM_2024_07_30__17_50_55.csv', #LSTM 839 to 996\n",
    "    'results/s1/table_B_s1_997_1000_LSTM_2024_07_31__13_25_05.csv', #LSTM 996 to 999\n",
    "    ]"
   ]
  },
  {
   "cell_type": "code",
   "execution_count": 51,
   "metadata": {},
   "outputs": [],
   "source": [
    "s2_files_A = [\n",
    "    'results/s2/table_A_s2_0_200_2024_06_07__11_38_43.csv', #ARMA + Tree\n",
    "    'results/s2/table_A_s2_200_1001_2024_06_07__12_11_58.csv', #ARMA + Tree\n",
    "    'results/s2/backups/table_A_s2_0_200_LSTM_2024_06_12__14_35_25.csv', #LSTM 0 to 80\n",
    "    'results/s2/backups/table_A_s2_81_200_LSTM_2024_06_12__17_45_25.csv', #LSTM 81 to 175\n",
    "    'results/s2/backups/table_A_s2_176_200_LSTM_2024_06_14__10_20_50.csv', #LSTM 176 to 199\n",
    "    'results/s2/backups/table_A_s2_200_1000_LSTM_2024_06_18__15_22_58.csv', #LSTM 200 to 310 \n",
    "    'results/s2/backups/table_A_s2_311_1000_LSTM_2024_06_20__12_50_57.csv', #LSTM 311 to 421\n",
    "    'results/s2/backups/table_A_s2_422_1000_LSTM_2024_06_20__16_42_02.csv', #LSTM 422 to 532\n",
    "    'results/s2/backups/table_A_s2_533_1000_LSTM_2024_06_20__19_08_35.csv', #LSTM 533 to 644 \n",
    "    'results/s2/backups/table_A_s2_645_1000_LSTM_2024_06_21__12_32_08.csv', #LSTM 645 to 755 \n",
    "    'results/s2/backups/table_A_s2_756_1000_LSTM_2024_07_29__16_47_25.csv', #LSTM 756 to 913\n",
    "    'results/s2/table_A_s2_914_1000_LSTM_2024_07_30__11_50_49.csv', #LSTM 914 to 999\n",
    "    ]\n",
    "\n",
    "s2_files_B = [\n",
    "    'results/s2/table_B_s2_0_200_2024_06_07__11_38_43.csv', #ARMA + Tree\n",
    "    'results/s2/table_B_s2_200_1001_2024_06_07__12_11_58.csv', #ARMA + Tree\n",
    "    'results/s2/backups/table_B_s2_0_200_LSTM_2024_06_12__14_35_25.csv', #LSTM 0 to 80\n",
    "    'results/s2/backups/table_B_s2_81_200_LSTM_2024_06_12__17_45_25.csv', #LSTM 81 to 175\n",
    "    'results/s2/backups/table_B_s2_176_200_LSTM_2024_06_14__10_20_50.csv', #LSTM 176 to 199\n",
    "    'results/s2/backups/table_B_s2_200_1000_LSTM_2024_06_18__15_22_58.csv', #LSTM 200 to 310 \n",
    "    'results/s2/backups/table_B_s2_311_1000_LSTM_2024_06_20__12_50_57.csv', #LSTM 311 to 421\n",
    "    'results/s2/backups/table_B_s2_422_1000_LSTM_2024_06_20__16_42_02.csv', #LSTM 422 to 532\n",
    "    'results/s2/backups/table_B_s2_533_1000_LSTM_2024_06_20__19_08_35.csv', #LSTM 533 to 644 \n",
    "    'results/s2/backups/table_B_s2_645_1000_LSTM_2024_06_21__12_32_08.csv', #LSTM 645 to 755 \n",
    "    'results/s2/backups/table_B_s2_756_1000_LSTM_2024_07_29__16_47_25.csv', #LSTM 756 to 913\n",
    "    'results/s2/table_B_s2_914_1000_LSTM_2024_07_30__11_50_49.csv', #LSTM 914 to 999\n",
    "    ]"
   ]
  },
  {
   "cell_type": "code",
   "execution_count": 54,
   "metadata": {},
   "outputs": [],
   "source": [
    "s3_files_A = [\n",
    "    'results/s3/table_A_s3_2024_06_07__17_30_48.csv', #ARMA + Tree\n",
    "    'results/s3/backups/table_A_s3_2024_07_29__16_58_30.csv', #LSTM 0 to 158\n",
    "    'results/s3/backups/table_A_s3_159_1000_LSTM_2024_07_30__12_49_29.csv', #LSTM 159 to 317\n",
    "    'results/s3/backups/table_A_s3_318_1000_LSTM_2024_07_30__17_53_55.csv', #LSTM 318 to 476\n",
    "    'results/s3/backups/table_A_s3_477_1000_LSTM_2024_07_31__16_48_33.csv', #LSTM 477 to 708\n",
    "    'results/s3/backups/table_A_s3_694_1000_LSTM_2024_07_31__20_30_32.csv', #LSTM 694 to 936\n",
    "    #'results/s3/table_A_s3_936_1000_LSTM_??????????.csv', #LSTM  to \n",
    "    ]\n",
    "\n",
    "s3_files_B = [\n",
    "    'results/s3/table_B_s3_2024_06_07__17_30_48.csv', #ARMA + Tree\n",
    "    'results/s3/backups/table_B_s3_2024_07_29__16_58_30.csv', #LSTM 0 to 158\n",
    "    'results/s3/backups/table_B_s3_159_1000_LSTM_2024_07_30__12_49_29.csv', #LSTM 159 to 317\n",
    "    'results/s3/backups/table_B_s3_318_1000_LSTM_2024_07_30__17_53_55.csv', #LSTM 318 to 476\n",
    "    'results/s3/backups/table_B_s3_477_1000_LSTM_2024_07_31__16_48_33.csv', #LSTM 477 to 708\n",
    "    'results/s3/backups/table_B_s3_694_1000_LSTM_2024_07_31__20_30_32.csv', #LSTM 694 to 936\n",
    "    #'results/s3/table_B_s3_936_1000_LSTM_??????????.csv', #LSTM  to \n",
    "    ]"
   ]
  },
  {
   "cell_type": "code",
   "execution_count": 11,
   "metadata": {},
   "outputs": [],
   "source": [
    "def concat_files(files: list[str]):\n",
    "    dfs = []\n",
    "    for file in files:\n",
    "        dfs.append(pd.read_csv(file))\n",
    "    return pd.concat(dfs, ignore_index=True)\n"
   ]
  },
  {
   "cell_type": "code",
   "execution_count": 38,
   "metadata": {},
   "outputs": [],
   "source": [
    "meteo_table_A = concat_files(meteo_files_A)\n",
    "meteo_table_B = concat_files(meteo_files_B)\n",
    "eng_ciencias_table_A = concat_files(eng_ciencias_files_A)\n",
    "eng_ciencias_table_B = concat_files(eng_ciencias_files_B)\n",
    "energia_table_A = concat_files(energia_files_A)\n",
    "energia_table_B = concat_files(energia_files_B)\n",
    "eco_financas_table_A = concat_files(eco_financas_files_A)\n",
    "eco_financas_table_B = concat_files(eco_financas_files_B)\n",
    "saude_table_A = concat_files(saude_files_A)\n",
    "saude_table_B = concat_files(saude_files_B)\n",
    "transportes_table_A = concat_files(transportes_files_A)\n",
    "transportes_table_B = concat_files(transportes_files_B)"
   ]
  },
  {
   "cell_type": "code",
   "execution_count": 55,
   "metadata": {},
   "outputs": [],
   "source": [
    "s1_table_A = concat_files(s1_files_A)\n",
    "s1_table_B = concat_files(s1_files_B)\n",
    "s2_table_A = concat_files(s2_files_A)\n",
    "s2_table_B = concat_files(s2_files_B)\n",
    "s3_table_A = concat_files(s3_files_A)\n",
    "s3_table_B = concat_files(s3_files_B)"
   ]
  },
  {
   "cell_type": "code",
   "execution_count": 56,
   "metadata": {},
   "outputs": [
    {
     "data": {
      "text/html": [
       "<div>\n",
       "<style scoped>\n",
       "    .dataframe tbody tr th:only-of-type {\n",
       "        vertical-align: middle;\n",
       "    }\n",
       "\n",
       "    .dataframe tbody tr th {\n",
       "        vertical-align: top;\n",
       "    }\n",
       "\n",
       "    .dataframe thead th {\n",
       "        text-align: right;\n",
       "    }\n",
       "</style>\n",
       "<table border=\"1\" class=\"dataframe\">\n",
       "  <thead>\n",
       "    <tr style=\"text-align: right;\">\n",
       "      <th></th>\n",
       "      <th>filename</th>\n",
       "      <th>column_index</th>\n",
       "      <th>model</th>\n",
       "      <th>mse</th>\n",
       "      <th>mae</th>\n",
       "      <th>rmse</th>\n",
       "    </tr>\n",
       "  </thead>\n",
       "  <tbody>\n",
       "    <tr>\n",
       "      <th>0</th>\n",
       "      <td>datasets/synthetic_data/s3.csv</td>\n",
       "      <td>0</td>\n",
       "      <td>Tree</td>\n",
       "      <td>2.248343e+06</td>\n",
       "      <td>1285.063250</td>\n",
       "      <td>1499.447452</td>\n",
       "    </tr>\n",
       "    <tr>\n",
       "      <th>1</th>\n",
       "      <td>datasets/synthetic_data/s3.csv</td>\n",
       "      <td>0</td>\n",
       "      <td>ARMA</td>\n",
       "      <td>5.715970e+06</td>\n",
       "      <td>2185.479452</td>\n",
       "      <td>2390.809504</td>\n",
       "    </tr>\n",
       "    <tr>\n",
       "      <th>2</th>\n",
       "      <td>datasets/synthetic_data/s3.csv</td>\n",
       "      <td>1</td>\n",
       "      <td>Tree</td>\n",
       "      <td>4.014966e+07</td>\n",
       "      <td>6288.587959</td>\n",
       "      <td>6336.376036</td>\n",
       "    </tr>\n",
       "    <tr>\n",
       "      <th>3</th>\n",
       "      <td>datasets/synthetic_data/s3.csv</td>\n",
       "      <td>1</td>\n",
       "      <td>ARMA</td>\n",
       "      <td>4.107462e+07</td>\n",
       "      <td>6082.979240</td>\n",
       "      <td>6408.948660</td>\n",
       "    </tr>\n",
       "    <tr>\n",
       "      <th>4</th>\n",
       "      <td>datasets/synthetic_data/s3.csv</td>\n",
       "      <td>2</td>\n",
       "      <td>Tree</td>\n",
       "      <td>1.914883e+06</td>\n",
       "      <td>1209.774302</td>\n",
       "      <td>1383.793119</td>\n",
       "    </tr>\n",
       "    <tr>\n",
       "      <th>...</th>\n",
       "      <td>...</td>\n",
       "      <td>...</td>\n",
       "      <td>...</td>\n",
       "      <td>...</td>\n",
       "      <td>...</td>\n",
       "      <td>...</td>\n",
       "    </tr>\n",
       "    <tr>\n",
       "      <th>2947</th>\n",
       "      <td>datasets/synthetic_data/s3.csv</td>\n",
       "      <td>932</td>\n",
       "      <td>LSTM</td>\n",
       "      <td>8.973826e+06</td>\n",
       "      <td>2882.097064</td>\n",
       "      <td>2995.634504</td>\n",
       "    </tr>\n",
       "    <tr>\n",
       "      <th>2948</th>\n",
       "      <td>datasets/synthetic_data/s3.csv</td>\n",
       "      <td>933</td>\n",
       "      <td>LSTM</td>\n",
       "      <td>1.207996e+08</td>\n",
       "      <td>10868.593551</td>\n",
       "      <td>10990.885887</td>\n",
       "    </tr>\n",
       "    <tr>\n",
       "      <th>2949</th>\n",
       "      <td>datasets/synthetic_data/s3.csv</td>\n",
       "      <td>934</td>\n",
       "      <td>LSTM</td>\n",
       "      <td>1.619323e+07</td>\n",
       "      <td>3598.975632</td>\n",
       "      <td>4024.080817</td>\n",
       "    </tr>\n",
       "    <tr>\n",
       "      <th>2950</th>\n",
       "      <td>datasets/synthetic_data/s3.csv</td>\n",
       "      <td>935</td>\n",
       "      <td>LSTM</td>\n",
       "      <td>1.786770e+07</td>\n",
       "      <td>4182.277460</td>\n",
       "      <td>4227.019821</td>\n",
       "    </tr>\n",
       "    <tr>\n",
       "      <th>2951</th>\n",
       "      <td>datasets/synthetic_data/s3.csv</td>\n",
       "      <td>936</td>\n",
       "      <td>LSTM</td>\n",
       "      <td>1.103286e+08</td>\n",
       "      <td>10474.607740</td>\n",
       "      <td>10503.743565</td>\n",
       "    </tr>\n",
       "  </tbody>\n",
       "</table>\n",
       "<p>2952 rows × 6 columns</p>\n",
       "</div>"
      ],
      "text/plain": [
       "                            filename  column_index model           mse  \\\n",
       "0     datasets/synthetic_data/s3.csv             0  Tree  2.248343e+06   \n",
       "1     datasets/synthetic_data/s3.csv             0  ARMA  5.715970e+06   \n",
       "2     datasets/synthetic_data/s3.csv             1  Tree  4.014966e+07   \n",
       "3     datasets/synthetic_data/s3.csv             1  ARMA  4.107462e+07   \n",
       "4     datasets/synthetic_data/s3.csv             2  Tree  1.914883e+06   \n",
       "...                              ...           ...   ...           ...   \n",
       "2947  datasets/synthetic_data/s3.csv           932  LSTM  8.973826e+06   \n",
       "2948  datasets/synthetic_data/s3.csv           933  LSTM  1.207996e+08   \n",
       "2949  datasets/synthetic_data/s3.csv           934  LSTM  1.619323e+07   \n",
       "2950  datasets/synthetic_data/s3.csv           935  LSTM  1.786770e+07   \n",
       "2951  datasets/synthetic_data/s3.csv           936  LSTM  1.103286e+08   \n",
       "\n",
       "               mae          rmse  \n",
       "0      1285.063250   1499.447452  \n",
       "1      2185.479452   2390.809504  \n",
       "2      6288.587959   6336.376036  \n",
       "3      6082.979240   6408.948660  \n",
       "4      1209.774302   1383.793119  \n",
       "...            ...           ...  \n",
       "2947   2882.097064   2995.634504  \n",
       "2948  10868.593551  10990.885887  \n",
       "2949   3598.975632   4024.080817  \n",
       "2950   4182.277460   4227.019821  \n",
       "2951  10474.607740  10503.743565  \n",
       "\n",
       "[2952 rows x 6 columns]"
      ]
     },
     "execution_count": 56,
     "metadata": {},
     "output_type": "execute_result"
    }
   ],
   "source": [
    "s3_table_B"
   ]
  },
  {
   "cell_type": "code",
   "execution_count": 21,
   "metadata": {},
   "outputs": [],
   "source": [
    "#meteo_table_A.to_csv('results/meteorologia/table_A_meteorologia.csv', index=False)\n",
    "#meteo_table_A.to_csv('results/meteorologia/table_B_meteorologia.csv', index=False)"
   ]
  },
  {
   "cell_type": "code",
   "execution_count": 24,
   "metadata": {},
   "outputs": [],
   "source": [
    "#eng_ciencias_table_A.to_csv('results/eng_ciencias/table_A_eng_ciencias.csv', index=False)\n",
    "#eng_ciencias_table_B.to_csv('results/eng_ciencias/table_B_eng_ciencias.csv', index=False)"
   ]
  },
  {
   "cell_type": "code",
   "execution_count": 30,
   "metadata": {},
   "outputs": [],
   "source": [
    "#energia_table_A.to_csv('results/energia/table_A_energia.csv', index=False)\n",
    "#energia_table_B.to_csv('results/energia/table_B_energia.csv', index=False)"
   ]
  },
  {
   "cell_type": "code",
   "execution_count": 33,
   "metadata": {},
   "outputs": [],
   "source": [
    "#eco_financas_table_A.to_csv('results/eco_financas/table_A_eco_financas.csv', index=False)\n",
    "#eco_financas_table_B.to_csv('results/eco_financas/table_B_eco_financas.csv', index=False)"
   ]
  },
  {
   "cell_type": "code",
   "execution_count": 36,
   "metadata": {},
   "outputs": [],
   "source": [
    "#saude_table_A.to_csv('results/saude/table_A_saude.csv', index=False)\n",
    "#saude_table_B.to_csv('results/saude/table_B_saude.csv', index=False)"
   ]
  },
  {
   "cell_type": "code",
   "execution_count": 39,
   "metadata": {},
   "outputs": [],
   "source": [
    "#transportes_table_A.to_csv('results/transportes/table_A_transportes.csv', index=False)\n",
    "#transportes_table_B.to_csv('results/transportes/table_B_transportes.csv', index=False)"
   ]
  },
  {
   "cell_type": "code",
   "execution_count": 46,
   "metadata": {},
   "outputs": [],
   "source": [
    "#s1_table_A.to_csv('results/s1/table_A_s1.csv', index=False)\n",
    "#s1_table_B.to_csv('results/s1/table_B_s1.csv', index=False)"
   ]
  },
  {
   "cell_type": "code",
   "execution_count": 53,
   "metadata": {},
   "outputs": [],
   "source": [
    "#s2_table_A.to_csv('results/s1/table_A_s2.csv', index=False)\n",
    "#s2_table_B.to_csv('results/s1/table_B_s2.csv', index=False)"
   ]
  }
 ],
 "metadata": {
  "kernelspec": {
   "display_name": "TimeCaveEnv",
   "language": "python",
   "name": "python3"
  },
  "language_info": {
   "codemirror_mode": {
    "name": "ipython",
    "version": 3
   },
   "file_extension": ".py",
   "mimetype": "text/x-python",
   "name": "python",
   "nbconvert_exporter": "python",
   "pygments_lexer": "ipython3",
   "version": "3.12.3"
  }
 },
 "nbformat": 4,
 "nbformat_minor": 2
}
