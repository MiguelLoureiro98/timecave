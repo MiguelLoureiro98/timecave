{
 "cells": [
  {
   "cell_type": "code",
   "execution_count": 28,
   "metadata": {},
   "outputs": [],
   "source": [
    "import pandas as pd\n",
    "import numpy as np"
   ]
  },
  {
   "cell_type": "code",
   "execution_count": 29,
   "metadata": {},
   "outputs": [],
   "source": [
    "types = {'meantemp': np.float64, 'humidity': np.float64, 'wind_speed': np.float64, 'meanpressure': np.float64}\n",
    "dcts_test = pd.read_csv('datasets/Daily Climate time series data/DailyDelhiClimateTest.csv', parse_dates=['date'], dtype=types)\n",
    "dcts_train = pd.read_csv('datasets/Daily Climate time series data/DailyDelhiClimateTrain.csv', parse_dates=['date'], dtype=types)\n",
    "dcts = pd.concat([dcts_test, dcts_train], ignore_index=True).sort_values(by='date', ascending=True)"
   ]
  },
  {
   "cell_type": "code",
   "execution_count": 35,
   "metadata": {},
   "outputs": [
    {
     "name": "stdout",
     "output_type": "stream",
     "text": [
      "There is no missing dates!\n",
      "There is no missing values!\n"
     ]
    }
   ],
   "source": [
    "#checking for index completeness\n",
    "date_range = pd.date_range(start=dcts['date'].min(), end=dcts['date'].max())\n",
    "if len(date_range) == dcts['date'].nunique():\n",
    "    print('There is no missing dates!')\n",
    "\n",
    "#check for missing values\n",
    "missing_values = dcts[dcts.isnull().any(axis=1)]\n",
    "if missing_values.empty:\n",
    "    print('There is no missing values!')"
   ]
  },
  {
   "cell_type": "code",
   "execution_count": 33,
   "metadata": {},
   "outputs": [
    {
     "data": {
      "text/plain": [
       "date            datetime64[ns]\n",
       "meantemp               float64\n",
       "humidity               float64\n",
       "wind_speed             float64\n",
       "meanpressure           float64\n",
       "dtype: object"
      ]
     },
     "execution_count": 33,
     "metadata": {},
     "output_type": "execute_result"
    }
   ],
   "source": [
    "dcts.dtypes"
   ]
  },
  {
   "cell_type": "code",
   "execution_count": 32,
   "metadata": {},
   "outputs": [
    {
     "data": {
      "text/html": [
       "<div>\n",
       "<style scoped>\n",
       "    .dataframe tbody tr th:only-of-type {\n",
       "        vertical-align: middle;\n",
       "    }\n",
       "\n",
       "    .dataframe tbody tr th {\n",
       "        vertical-align: top;\n",
       "    }\n",
       "\n",
       "    .dataframe thead th {\n",
       "        text-align: right;\n",
       "    }\n",
       "</style>\n",
       "<table border=\"1\" class=\"dataframe\">\n",
       "  <thead>\n",
       "    <tr style=\"text-align: right;\">\n",
       "      <th></th>\n",
       "      <th>date</th>\n",
       "      <th>meantemp</th>\n",
       "      <th>humidity</th>\n",
       "      <th>wind_speed</th>\n",
       "      <th>meanpressure</th>\n",
       "    </tr>\n",
       "  </thead>\n",
       "  <tbody>\n",
       "  </tbody>\n",
       "</table>\n",
       "</div>"
      ],
      "text/plain": [
       "Empty DataFrame\n",
       "Columns: [date, meantemp, humidity, wind_speed, meanpressure]\n",
       "Index: []"
      ]
     },
     "execution_count": 32,
     "metadata": {},
     "output_type": "execute_result"
    }
   ],
   "source": [
    "missing_values = dcts[dcts.isnull().any(axis=1)]\n",
    "missing_values\n"
   ]
  }
 ],
 "metadata": {
  "kernelspec": {
   "display_name": "tsvalidation",
   "language": "python",
   "name": "python3"
  },
  "language_info": {
   "codemirror_mode": {
    "name": "ipython",
    "version": 3
   },
   "file_extension": ".py",
   "mimetype": "text/x-python",
   "name": "python",
   "nbconvert_exporter": "python",
   "pygments_lexer": "ipython3",
   "version": "3.11.8"
  }
 },
 "nbformat": 4,
 "nbformat_minor": 2
}
