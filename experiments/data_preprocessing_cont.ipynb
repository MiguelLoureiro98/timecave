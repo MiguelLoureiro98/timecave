{
 "cells": [
  {
   "cell_type": "markdown",
   "metadata": {},
   "source": [
    "# Data preprocessing - continued"
   ]
  },
  {
   "cell_type": "code",
   "execution_count": 1,
   "metadata": {},
   "outputs": [],
   "source": [
    "import numpy as np\n",
    "import pandas as pd\n",
    "import matplotlib.pyplot as plt\n",
    "from dataframe_checks import check_time_column, check_col_types, check_missing_values, data_report, plot_time_series"
   ]
  },
  {
   "cell_type": "code",
   "execution_count": 25,
   "metadata": {},
   "outputs": [],
   "source": [
    "Miguel_path = \"C:/Users/User/Desktop/Project_repos/timecave\";\n",
    "raw_path = \"timecave/experiments/datasets/raw\";"
   ]
  },
  {
   "cell_type": "code",
   "execution_count": 26,
   "metadata": {},
   "outputs": [],
   "source": [
    "path = f\"{Miguel_path}/{raw_path}\";"
   ]
  },
  {
   "cell_type": "markdown",
   "metadata": {},
   "source": [
    "## NY Taxi dataset"
   ]
  },
  {
   "cell_type": "code",
   "execution_count": 13,
   "metadata": {},
   "outputs": [],
   "source": [
    "taxi_data = pd.read_csv(f\"{path}/NYC Taxi Traffic/dataset.csv\", index_col=[0], parse_dates=[\"timestamp\"]);"
   ]
  },
  {
   "cell_type": "code",
   "execution_count": 14,
   "metadata": {},
   "outputs": [
    {
     "data": {
      "text/html": [
       "<div>\n",
       "<style scoped>\n",
       "    .dataframe tbody tr th:only-of-type {\n",
       "        vertical-align: middle;\n",
       "    }\n",
       "\n",
       "    .dataframe tbody tr th {\n",
       "        vertical-align: top;\n",
       "    }\n",
       "\n",
       "    .dataframe thead th {\n",
       "        text-align: right;\n",
       "    }\n",
       "</style>\n",
       "<table border=\"1\" class=\"dataframe\">\n",
       "  <thead>\n",
       "    <tr style=\"text-align: right;\">\n",
       "      <th></th>\n",
       "      <th>timestamp</th>\n",
       "      <th>value</th>\n",
       "    </tr>\n",
       "  </thead>\n",
       "  <tbody>\n",
       "    <tr>\n",
       "      <th>0</th>\n",
       "      <td>2014-07-01 00:00:00</td>\n",
       "      <td>10844</td>\n",
       "    </tr>\n",
       "    <tr>\n",
       "      <th>1</th>\n",
       "      <td>2014-07-01 00:30:00</td>\n",
       "      <td>8127</td>\n",
       "    </tr>\n",
       "    <tr>\n",
       "      <th>2</th>\n",
       "      <td>2014-07-01 01:00:00</td>\n",
       "      <td>6210</td>\n",
       "    </tr>\n",
       "    <tr>\n",
       "      <th>3</th>\n",
       "      <td>2014-07-01 01:30:00</td>\n",
       "      <td>4656</td>\n",
       "    </tr>\n",
       "    <tr>\n",
       "      <th>4</th>\n",
       "      <td>2014-07-01 02:00:00</td>\n",
       "      <td>3820</td>\n",
       "    </tr>\n",
       "    <tr>\n",
       "      <th>...</th>\n",
       "      <td>...</td>\n",
       "      <td>...</td>\n",
       "    </tr>\n",
       "    <tr>\n",
       "      <th>10315</th>\n",
       "      <td>2015-01-31 21:30:00</td>\n",
       "      <td>24670</td>\n",
       "    </tr>\n",
       "    <tr>\n",
       "      <th>10316</th>\n",
       "      <td>2015-01-31 22:00:00</td>\n",
       "      <td>25721</td>\n",
       "    </tr>\n",
       "    <tr>\n",
       "      <th>10317</th>\n",
       "      <td>2015-01-31 22:30:00</td>\n",
       "      <td>27309</td>\n",
       "    </tr>\n",
       "    <tr>\n",
       "      <th>10318</th>\n",
       "      <td>2015-01-31 23:00:00</td>\n",
       "      <td>26591</td>\n",
       "    </tr>\n",
       "    <tr>\n",
       "      <th>10319</th>\n",
       "      <td>2015-01-31 23:30:00</td>\n",
       "      <td>26288</td>\n",
       "    </tr>\n",
       "  </tbody>\n",
       "</table>\n",
       "<p>10320 rows × 2 columns</p>\n",
       "</div>"
      ],
      "text/plain": [
       "                timestamp  value\n",
       "0     2014-07-01 00:00:00  10844\n",
       "1     2014-07-01 00:30:00   8127\n",
       "2     2014-07-01 01:00:00   6210\n",
       "3     2014-07-01 01:30:00   4656\n",
       "4     2014-07-01 02:00:00   3820\n",
       "...                   ...    ...\n",
       "10315 2015-01-31 21:30:00  24670\n",
       "10316 2015-01-31 22:00:00  25721\n",
       "10317 2015-01-31 22:30:00  27309\n",
       "10318 2015-01-31 23:00:00  26591\n",
       "10319 2015-01-31 23:30:00  26288\n",
       "\n",
       "[10320 rows x 2 columns]"
      ]
     },
     "execution_count": 14,
     "metadata": {},
     "output_type": "execute_result"
    }
   ],
   "source": [
    "taxi_data"
   ]
  },
  {
   "cell_type": "code",
   "execution_count": 15,
   "metadata": {},
   "outputs": [
    {
     "name": "stdout",
     "output_type": "stream",
     "text": [
      "________________________________________________________________\n",
      "                          DATA REPORT                          \n",
      "________________________________________________________________\n",
      "1. Column order is correct!\n",
      "2. All column types are correct!\n",
      "3. Number of missing timesteps: 0\n",
      "4. Number of duplicated timesteps: 0\n",
      "5. Number of Time Series with missing values : 0\n",
      "________________________________________________________________\n"
     ]
    }
   ],
   "source": [
    "data_report(taxi_data, \"timestamp\", \"30min\");"
   ]
  },
  {
   "cell_type": "code",
   "execution_count": 17,
   "metadata": {},
   "outputs": [
    {
     "data": {
      "text/plain": [
       "timestamp    datetime64[ns]\n",
       "value                 int64\n",
       "dtype: object"
      ]
     },
     "execution_count": 17,
     "metadata": {},
     "output_type": "execute_result"
    }
   ],
   "source": [
    "taxi_data.dtypes"
   ]
  },
  {
   "cell_type": "code",
   "execution_count": 21,
   "metadata": {},
   "outputs": [
    {
     "data": {
      "image/png": "[encoded data removed]",
      "text/plain": [
       "<Figure size 640x480 with 1 Axes>"
      ]
     },
     "metadata": {},
     "output_type": "display_data"
    }
   ],
   "source": [
    "plot_time_series(taxi_data, title=\"Taxi passengers\");"
   ]
  },
  {
   "cell_type": "code",
   "execution_count": 23,
   "metadata": {},
   "outputs": [
    {
     "data": {
      "text/plain": [
       "(10320, 2)"
      ]
     },
     "execution_count": 23,
     "metadata": {},
     "output_type": "execute_result"
    }
   ],
   "source": [
    "taxi_data.shape"
   ]
  },
  {
   "cell_type": "code",
   "execution_count": 24,
   "metadata": {},
   "outputs": [],
   "source": [
    "taxi_data.to_csv(\"C:/Users/User/Desktop/Project_repos/timecave/timecave/experiments/datasets/processed_data/taxi_data.csv\", index=False);"
   ]
  },
  {
   "cell_type": "markdown",
   "metadata": {},
   "source": [
    "## Electric Power Consumption"
   ]
  },
  {
   "cell_type": "code",
   "execution_count": 30,
   "metadata": {},
   "outputs": [],
   "source": [
    "power_consumption_data = pd.read_csv(f\"{path}/Electric Power Consumption/powerconsumption.csv\", parse_dates=[\"Datetime\"]);"
   ]
  },
  {
   "cell_type": "code",
   "execution_count": 31,
   "metadata": {},
   "outputs": [
    {
     "data": {
      "text/html": [
       "<div>\n",
       "<style scoped>\n",
       "    .dataframe tbody tr th:only-of-type {\n",
       "        vertical-align: middle;\n",
       "    }\n",
       "\n",
       "    .dataframe tbody tr th {\n",
       "        vertical-align: top;\n",
       "    }\n",
       "\n",
       "    .dataframe thead th {\n",
       "        text-align: right;\n",
       "    }\n",
       "</style>\n",
       "<table border=\"1\" class=\"dataframe\">\n",
       "  <thead>\n",
       "    <tr style=\"text-align: right;\">\n",
       "      <th></th>\n",
       "      <th>Datetime</th>\n",
       "      <th>Temperature</th>\n",
       "      <th>Humidity</th>\n",
       "      <th>WindSpeed</th>\n",
       "      <th>GeneralDiffuseFlows</th>\n",
       "      <th>DiffuseFlows</th>\n",
       "      <th>PowerConsumption_Zone1</th>\n",
       "      <th>PowerConsumption_Zone2</th>\n",
       "      <th>PowerConsumption_Zone3</th>\n",
       "    </tr>\n",
       "  </thead>\n",
       "  <tbody>\n",
       "    <tr>\n",
       "      <th>0</th>\n",
       "      <td>2017-01-01 00:00:00</td>\n",
       "      <td>6.559</td>\n",
       "      <td>73.8</td>\n",
       "      <td>0.083</td>\n",
       "      <td>0.051</td>\n",
       "      <td>0.119</td>\n",
       "      <td>34055.69620</td>\n",
       "      <td>16128.87538</td>\n",
       "      <td>20240.96386</td>\n",
       "    </tr>\n",
       "    <tr>\n",
       "      <th>1</th>\n",
       "      <td>2017-01-01 00:10:00</td>\n",
       "      <td>6.414</td>\n",
       "      <td>74.5</td>\n",
       "      <td>0.083</td>\n",
       "      <td>0.070</td>\n",
       "      <td>0.085</td>\n",
       "      <td>29814.68354</td>\n",
       "      <td>19375.07599</td>\n",
       "      <td>20131.08434</td>\n",
       "    </tr>\n",
       "    <tr>\n",
       "      <th>2</th>\n",
       "      <td>2017-01-01 00:20:00</td>\n",
       "      <td>6.313</td>\n",
       "      <td>74.5</td>\n",
       "      <td>0.080</td>\n",
       "      <td>0.062</td>\n",
       "      <td>0.100</td>\n",
       "      <td>29128.10127</td>\n",
       "      <td>19006.68693</td>\n",
       "      <td>19668.43373</td>\n",
       "    </tr>\n",
       "    <tr>\n",
       "      <th>3</th>\n",
       "      <td>2017-01-01 00:30:00</td>\n",
       "      <td>6.121</td>\n",
       "      <td>75.0</td>\n",
       "      <td>0.083</td>\n",
       "      <td>0.091</td>\n",
       "      <td>0.096</td>\n",
       "      <td>28228.86076</td>\n",
       "      <td>18361.09422</td>\n",
       "      <td>18899.27711</td>\n",
       "    </tr>\n",
       "    <tr>\n",
       "      <th>4</th>\n",
       "      <td>2017-01-01 00:40:00</td>\n",
       "      <td>5.921</td>\n",
       "      <td>75.7</td>\n",
       "      <td>0.081</td>\n",
       "      <td>0.048</td>\n",
       "      <td>0.085</td>\n",
       "      <td>27335.69620</td>\n",
       "      <td>17872.34043</td>\n",
       "      <td>18442.40964</td>\n",
       "    </tr>\n",
       "    <tr>\n",
       "      <th>...</th>\n",
       "      <td>...</td>\n",
       "      <td>...</td>\n",
       "      <td>...</td>\n",
       "      <td>...</td>\n",
       "      <td>...</td>\n",
       "      <td>...</td>\n",
       "      <td>...</td>\n",
       "      <td>...</td>\n",
       "      <td>...</td>\n",
       "    </tr>\n",
       "    <tr>\n",
       "      <th>52411</th>\n",
       "      <td>2017-12-30 23:10:00</td>\n",
       "      <td>7.010</td>\n",
       "      <td>72.4</td>\n",
       "      <td>0.080</td>\n",
       "      <td>0.040</td>\n",
       "      <td>0.096</td>\n",
       "      <td>31160.45627</td>\n",
       "      <td>26857.31820</td>\n",
       "      <td>14780.31212</td>\n",
       "    </tr>\n",
       "    <tr>\n",
       "      <th>52412</th>\n",
       "      <td>2017-12-30 23:20:00</td>\n",
       "      <td>6.947</td>\n",
       "      <td>72.6</td>\n",
       "      <td>0.082</td>\n",
       "      <td>0.051</td>\n",
       "      <td>0.093</td>\n",
       "      <td>30430.41825</td>\n",
       "      <td>26124.57809</td>\n",
       "      <td>14428.81152</td>\n",
       "    </tr>\n",
       "    <tr>\n",
       "      <th>52413</th>\n",
       "      <td>2017-12-30 23:30:00</td>\n",
       "      <td>6.900</td>\n",
       "      <td>72.8</td>\n",
       "      <td>0.086</td>\n",
       "      <td>0.084</td>\n",
       "      <td>0.074</td>\n",
       "      <td>29590.87452</td>\n",
       "      <td>25277.69254</td>\n",
       "      <td>13806.48259</td>\n",
       "    </tr>\n",
       "    <tr>\n",
       "      <th>52414</th>\n",
       "      <td>2017-12-30 23:40:00</td>\n",
       "      <td>6.758</td>\n",
       "      <td>73.0</td>\n",
       "      <td>0.080</td>\n",
       "      <td>0.066</td>\n",
       "      <td>0.089</td>\n",
       "      <td>28958.17490</td>\n",
       "      <td>24692.23688</td>\n",
       "      <td>13512.60504</td>\n",
       "    </tr>\n",
       "    <tr>\n",
       "      <th>52415</th>\n",
       "      <td>2017-12-30 23:50:00</td>\n",
       "      <td>6.580</td>\n",
       "      <td>74.1</td>\n",
       "      <td>0.081</td>\n",
       "      <td>0.062</td>\n",
       "      <td>0.111</td>\n",
       "      <td>28349.80989</td>\n",
       "      <td>24055.23167</td>\n",
       "      <td>13345.49820</td>\n",
       "    </tr>\n",
       "  </tbody>\n",
       "</table>\n",
       "<p>52416 rows × 9 columns</p>\n",
       "</div>"
      ],
      "text/plain": [
       "                 Datetime  Temperature  Humidity  WindSpeed  \\\n",
       "0     2017-01-01 00:00:00        6.559      73.8      0.083   \n",
       "1     2017-01-01 00:10:00        6.414      74.5      0.083   \n",
       "2     2017-01-01 00:20:00        6.313      74.5      0.080   \n",
       "3     2017-01-01 00:30:00        6.121      75.0      0.083   \n",
       "4     2017-01-01 00:40:00        5.921      75.7      0.081   \n",
       "...                   ...          ...       ...        ...   \n",
       "52411 2017-12-30 23:10:00        7.010      72.4      0.080   \n",
       "52412 2017-12-30 23:20:00        6.947      72.6      0.082   \n",
       "52413 2017-12-30 23:30:00        6.900      72.8      0.086   \n",
       "52414 2017-12-30 23:40:00        6.758      73.0      0.080   \n",
       "52415 2017-12-30 23:50:00        6.580      74.1      0.081   \n",
       "\n",
       "       GeneralDiffuseFlows  DiffuseFlows  PowerConsumption_Zone1  \\\n",
       "0                    0.051         0.119             34055.69620   \n",
       "1                    0.070         0.085             29814.68354   \n",
       "2                    0.062         0.100             29128.10127   \n",
       "3                    0.091         0.096             28228.86076   \n",
       "4                    0.048         0.085             27335.69620   \n",
       "...                    ...           ...                     ...   \n",
       "52411                0.040         0.096             31160.45627   \n",
       "52412                0.051         0.093             30430.41825   \n",
       "52413                0.084         0.074             29590.87452   \n",
       "52414                0.066         0.089             28958.17490   \n",
       "52415                0.062         0.111             28349.80989   \n",
       "\n",
       "       PowerConsumption_Zone2  PowerConsumption_Zone3  \n",
       "0                 16128.87538             20240.96386  \n",
       "1                 19375.07599             20131.08434  \n",
       "2                 19006.68693             19668.43373  \n",
       "3                 18361.09422             18899.27711  \n",
       "4                 17872.34043             18442.40964  \n",
       "...                       ...                     ...  \n",
       "52411             26857.31820             14780.31212  \n",
       "52412             26124.57809             14428.81152  \n",
       "52413             25277.69254             13806.48259  \n",
       "52414             24692.23688             13512.60504  \n",
       "52415             24055.23167             13345.49820  \n",
       "\n",
       "[52416 rows x 9 columns]"
      ]
     },
     "execution_count": 31,
     "metadata": {},
     "output_type": "execute_result"
    }
   ],
   "source": [
    "power_consumption_data"
   ]
  },
  {
   "cell_type": "code",
   "execution_count": 33,
   "metadata": {},
   "outputs": [
    {
     "name": "stdout",
     "output_type": "stream",
     "text": [
      "________________________________________________________________\n",
      "                          DATA REPORT                          \n",
      "________________________________________________________________\n",
      "1. Column order is correct!\n",
      "2. All column types are correct!\n",
      "3. Number of missing timesteps: 0\n",
      "4. Number of duplicated timesteps: 0\n",
      "5. Number of Time Series with missing values : 0\n",
      "________________________________________________________________\n"
     ]
    }
   ],
   "source": [
    "data_report(power_consumption_data, \"Datetime\", freq=\"10min\");"
   ]
  },
  {
   "cell_type": "code",
   "execution_count": 34,
   "metadata": {},
   "outputs": [],
   "source": [
    "power_consumption_data.to_csv(\"C:/Users/User/Desktop/Project_repos/timecave/timecave/experiments/datasets/processed_data/power_consumption_data.csv\", index=False);"
   ]
  },
  {
   "cell_type": "markdown",
   "metadata": {},
   "source": [
    "## Room Occupancy Detection"
   ]
  },
  {
   "cell_type": "code",
   "execution_count": 35,
   "metadata": {},
   "outputs": [],
   "source": [
    "room_occupancy_detection = pd.read_csv(f\"{path}/Room Occupancy Detection/Occupancy.csv\", parse_dates=[\"date\"]);"
   ]
  },
  {
   "cell_type": "code",
   "execution_count": 38,
   "metadata": {},
   "outputs": [
    {
     "name": "stdout",
     "output_type": "stream",
     "text": [
      "________________________________________________________________\n",
      "                          DATA REPORT                          \n",
      "________________________________________________________________\n",
      "1. Column order is correct!\n",
      "2. All column types are correct!\n",
      "3. Number of missing timesteps: 2181\n",
      "4. Number of duplicated timesteps: 0\n",
      "5. Number of Time Series with missing values : 0\n",
      "________________________________________________________________\n"
     ]
    }
   ],
   "source": [
    "data_report(room_occupancy_detection, \"date\", \"min\");"
   ]
  },
  {
   "cell_type": "code",
   "execution_count": 43,
   "metadata": {},
   "outputs": [],
   "source": [
    "room_occupancy_detection[\"date\"] = room_occupancy_detection[\"date\"].dt.round(\"min\");"
   ]
  },
  {
   "cell_type": "code",
   "execution_count": 44,
   "metadata": {},
   "outputs": [
    {
     "name": "stdout",
     "output_type": "stream",
     "text": [
      "________________________________________________________________\n",
      "                          DATA REPORT                          \n",
      "________________________________________________________________\n",
      "1. Column order is correct!\n",
      "2. All column types are correct!\n",
      "3. Number of missing timesteps: 2181\n",
      "4. Number of duplicated timesteps: 0\n",
      "5. Number of Time Series with missing values : 0\n",
      "________________________________________________________________\n"
     ]
    }
   ],
   "source": [
    "data_report(room_occupancy_detection, \"date\", \"min\");"
   ]
  },
  {
   "cell_type": "code",
   "execution_count": 49,
   "metadata": {},
   "outputs": [
    {
     "name": "stdout",
     "output_type": "stream",
     "text": [
      "3. Number of missing timesteps: 2181\n",
      "4. Number of duplicated timesteps: 0\n"
     ]
    }
   ],
   "source": [
    "room_occupancy_detection = check_time_column(room_occupancy_detection, \"date\", \"min\", fix=True);"
   ]
  },
  {
   "cell_type": "code",
   "execution_count": 51,
   "metadata": {},
   "outputs": [
    {
     "name": "stdout",
     "output_type": "stream",
     "text": [
      "________________________________________________________________\n",
      "                          DATA REPORT                          \n",
      "________________________________________________________________\n",
      "1. Column order is correct!\n",
      "2. All column types are correct!\n",
      "3. Number of missing timesteps: 0\n",
      "4. Number of duplicated timesteps: 0\n",
      "Number of missing values in column 'Temperature' : 2181\n",
      "Number of missing values in column 'Humidity' : 2181\n",
      "Number of missing values in column 'Light' : 2181\n",
      "Number of missing values in column 'CO2' : 2181\n",
      "Number of missing values in column 'HumidityRatio' : 2181\n",
      "Number of missing values in column 'Occupancy' : 2181\n",
      "5. Number of Time Series with missing values : 6\n",
      "________________________________________________________________\n"
     ]
    }
   ],
   "source": [
    "data_report(room_occupancy_detection, \"date\", \"min\")"
   ]
  },
  {
   "cell_type": "code",
   "execution_count": 54,
   "metadata": {},
   "outputs": [
    {
     "name": "stdout",
     "output_type": "stream",
     "text": [
      "Number of missing values in column 'Temperature' : 2181\n",
      "Number of missing values in column 'Humidity' : 2181\n",
      "Number of missing values in column 'Light' : 2181\n",
      "Number of missing values in column 'CO2' : 2181\n",
      "Number of missing values in column 'HumidityRatio' : 2181\n",
      "Number of missing values in column 'Occupancy' : 2181\n",
      "5. Number of Time Series with missing values : 6\n"
     ]
    }
   ],
   "source": [
    "room_occupancy_detection = check_missing_values(room_occupancy_detection, alpha=0.1, fix=True);"
   ]
  },
  {
   "cell_type": "code",
   "execution_count": 55,
   "metadata": {},
   "outputs": [
    {
     "name": "stdout",
     "output_type": "stream",
     "text": [
      "________________________________________________________________\n",
      "                          DATA REPORT                          \n",
      "________________________________________________________________\n",
      "1. Column order is correct!\n",
      "2. All column types are correct!\n",
      "3. Number of missing timesteps: 0\n",
      "4. Number of duplicated timesteps: 0\n",
      "5. Number of Time Series with missing values : 0\n",
      "________________________________________________________________\n"
     ]
    }
   ],
   "source": [
    "data_report(room_occupancy_detection, \"date\", \"min\")"
   ]
  },
  {
   "cell_type": "code",
   "execution_count": 56,
   "metadata": {},
   "outputs": [
    {
     "data": {
      "image/png": "[encoded data removed]",
      "text/plain": [
       "<Figure size 640x480 with 1 Axes>"
      ]
     },
     "metadata": {},
     "output_type": "display_data"
    }
   ],
   "source": [
    "plot_time_series(room_occupancy_detection, legend=True, title=\"Room Occupancy Detection\");"
   ]
  },
  {
   "cell_type": "code",
   "execution_count": 57,
   "metadata": {},
   "outputs": [],
   "source": [
    "room_occupancy_detection.to_csv(\"C:/Users/User/Desktop/Project_repos/timecave/timecave/experiments/datasets/processed_data/room_occupancy_data.csv\", index=False);"
   ]
  },
  {
   "cell_type": "markdown",
   "metadata": {},
   "source": [
    "## "
   ]
  },
  {
   "cell_type": "code",
   "execution_count": null,
   "metadata": {},
   "outputs": [],
   "source": []
  }
 ],
 "metadata": {
  "kernelspec": {
   "display_name": "TimeCaveEnv",
   "language": "python",
   "name": "python3"
  },
  "language_info": {
   "codemirror_mode": {
    "name": "ipython",
    "version": 3
   },
   "file_extension": ".py",
   "mimetype": "text/x-python",
   "name": "python",
   "nbconvert_exporter": "python",
   "pygments_lexer": "ipython3",
   "version": "3.12.3"
  }
 },
 "nbformat": 4,
 "nbformat_minor": 2
}
