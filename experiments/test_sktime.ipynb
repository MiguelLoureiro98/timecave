{
 "cells": [
  {
   "cell_type": "code",
   "execution_count": 1,
   "metadata": {},
   "outputs": [
    {
     "name": "stderr",
     "output_type": "stream",
     "text": [
      "c:\\Users\\User\\anaconda3\\envs\\cave\\Lib\\site-packages\\keras\\src\\layers\\rnn\\rnn.py:204: UserWarning: Do not pass an `input_shape`/`input_dim` argument to a layer. When using Sequential models, prefer using an `Input(shape)` object as the first layer in the model instead.\n",
      "  super().__init__(**kwargs)\n"
     ]
    },
    {
     "name": "stdout",
     "output_type": "stream",
     "text": [
      "\u001b[1m6/6\u001b[0m \u001b[32m━━━━━━━━━━━━━━━━━━━━\u001b[0m\u001b[37m\u001b[0m \u001b[1m0s\u001b[0m 14ms/step\n",
      "Predictions: [ 396.44684   571.08185  -265.48233   762.6912   -220.30208    25.312326\n",
      "  -51.935738   59.18934   140.91063  -114.45719   -41.776268  240.00064\n",
      "  143.46503   127.51885   112.40998   -46.92341     6.271848 -233.72357\n",
      "   68.007     266.02368  -189.9904    -96.677895]\n",
      "Actual: ['1' '1' '1' '1' '1' '1' '1' '1' '1' '1' '1' '1' '2' '2' '2' '2' '2' '2'\n",
      " '2' '2' '2' '2']\n"
     ]
    }
   ],
   "source": [
    "from sktime.regression.deep_learning.rnn import SimpleRNNRegressor\n",
    "from sktime.datasets import load_unit_test\n",
    "\n",
    "# Load the dataset\n",
    "X_train, y_train = load_unit_test(split=\"train\")\n",
    "X_test, y_test = load_unit_test(split=\"test\")\n",
    "\n",
    "# Initialize the SimpleRNNRegressor\n",
    "clf = SimpleRNNRegressor(n_epochs=20, batch_size=4)\n",
    "\n",
    "# Fit the model\n",
    "clf.fit(X_train, y_train)\n",
    "\n",
    "# Make predictions\n",
    "y_pred = clf.predict(X_test)\n",
    "\n",
    "# Evaluate the model\n",
    "print(\"Predictions:\", y_pred)\n",
    "print(\"Actual:\", y_test)\n"
   ]
  }
 ],
 "metadata": {
  "kernelspec": {
   "display_name": "cave",
   "language": "python",
   "name": "python3"
  },
  "language_info": {
   "codemirror_mode": {
    "name": "ipython",
    "version": 3
   },
   "file_extension": ".py",
   "mimetype": "text/x-python",
   "name": "python",
   "nbconvert_exporter": "python",
   "pygments_lexer": "ipython3",
   "version": "3.12.3"
  }
 },
 "nbformat": 4,
 "nbformat_minor": 2
}
