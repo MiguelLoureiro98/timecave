{
 "cells": [
  {
   "cell_type": "code",
   "execution_count": 1,
   "metadata": {},
   "outputs": [
    {
     "name": "stderr",
     "output_type": "stream",
     "text": [
      "2024-05-31 15:25:47.933097: I tensorflow/core/platform/cpu_feature_guard.cc:210] This TensorFlow binary is optimized to use available CPU instructions in performance-critical operations.\n",
      "To enable the following instructions: AVX2 FMA, in other operations, rebuild TensorFlow with the appropriate compiler flags.\n"
     ]
    }
   ],
   "source": [
    "from timecave.data_generation import time_series_functions as tsf\n",
    "from timecave.data_generation import time_series_generation as tsg\n",
    "import numpy as np\n",
    "import pandas as pd\n",
    "from run_experiments import run"
   ]
  },
  {
   "cell_type": "markdown",
   "metadata": {},
   "source": [
    "# Test Data"
   ]
  },
  {
   "cell_type": "code",
   "execution_count": null,
   "metadata": {},
   "outputs": [],
   "source": [
    "def create_df_from_array(arr):\n",
    "    df = pd.DataFrame(np.array(arr).T)\n",
    "    df = df.reset_index(drop=False, names=[\"Timestep\"])\n",
    "    return df"
   ]
  },
  {
   "cell_type": "code",
   "execution_count": null,
   "metadata": {},
   "outputs": [],
   "source": [
    "samples = 30\n",
    "ts_nb = 3\n",
    "\n",
    "\n",
    "s1_parameters = {\n",
    "    'lags': 3,\n",
    "    'max_root': 1.2,\n",
    "    'ar': True,\n",
    "    'ma': False,\n",
    "    }\n",
    "\n",
    "g1 = tsg.TimeSeriesGenerator(\n",
    "    length = samples,\n",
    "    noise_level=0,\n",
    "    functions = [tsf.arma_ts], \n",
    "    parameter_values = [s1_parameters]\n",
    "    )\n",
    "\n",
    "g2 = tsg.TimeSeriesGenerator(\n",
    "    length = samples,\n",
    "    noise_level=0.5,\n",
    "    functions = [tsf.arma_ts], \n",
    "    parameter_values = [s1_parameters]\n",
    "    )\n",
    "arr1 = g1.generate(ts_nb, og_seed=1)\n",
    "df1 = create_df_from_array(arr1)\n",
    "\n",
    "arr2 = g2.generate(ts_nb, og_seed=2)\n",
    "df2 = create_df_from_array(arr2)"
   ]
  },
  {
   "cell_type": "code",
   "execution_count": null,
   "metadata": {},
   "outputs": [],
   "source": [
    "df1"
   ]
  },
  {
   "cell_type": "code",
   "execution_count": null,
   "metadata": {},
   "outputs": [],
   "source": [
    "#df1.to_csv('datasets/test_data/t1.csv', index=False)\n",
    "#df2.to_csv('datasets/test_data/t2.csv', index=False)"
   ]
  },
  {
   "cell_type": "markdown",
   "metadata": {},
   "source": [
    "# Run Experiments"
   ]
  },
  {
   "cell_type": "code",
   "execution_count": 3,
   "metadata": {},
   "outputs": [],
   "source": [
    "files = ['datasets/test_data/t1.csv', 'datasets/test_data/t2.csv']\n",
    "backup_dir = \"datasets/test_data/test_results/test_backups\"\n",
    "results_dir = \"datasets/test_data/test_results\""
   ]
  },
  {
   "cell_type": "code",
   "execution_count": 4,
   "metadata": {},
   "outputs": [],
   "source": [
    "def mock_predict(train, val, filename, col_idx, table, method=None, it=None):\n",
    "    row = pd.Series(\n",
    "        {\n",
    "            \"filename\": filename,\n",
    "            \"column_index\": col_idx,\n",
    "            \"method\": method,\n",
    "            \"iteration\": it,\n",
    "            \"model\": \"Mock Model\",\n",
    "            \"mse\": '0',\n",
    "            \"mae\": '0',\n",
    "            \"rmse\": '0',\n",
    "        }\n",
    "    )\n",
    "    table.loc[len(table.index)] = row[table.columns]\n",
    "    return"
   ]
  },
  {
   "cell_type": "markdown",
   "metadata": {},
   "source": [
    "## Mode \"Start Run\""
   ]
  },
  {
   "cell_type": "markdown",
   "metadata": {},
   "source": [
    "The most simple mode."
   ]
  },
  {
   "cell_type": "code",
   "execution_count": 5,
   "metadata": {},
   "outputs": [
    {
     "name": "stderr",
     "output_type": "stream",
     "text": [
      "/Users/beatrizlourenco/Documents/GitHub/tsvalidation/experiments/run_experiments.py:49: UserWarning: Could not infer format, so each element will be parsed individually, falling back to `dateutil`. To ensure parsing is consistent and as-expected, please specify a format.\n",
      "  df = pd.read_csv(file, parse_dates=[0])\n"
     ]
    },
    {
     "name": "stdout",
     "output_type": "stream",
     "text": [
      "Method: <timecave.validation_methods.OOS.Holdout object at 0x15d35aea0>\n",
      "Method: <timecave.validation_methods.OOS.Holdout object at 0x15d35aea0>, Iteration: 0\n",
      "Training and validation set statistics can only be computed if each of these comprise two or more samples.\n",
      "Method: <timecave.validation_methods.OOS.Repeated_Holdout object at 0x15ccb1c40>\n",
      "Method: <timecave.validation_methods.OOS.Repeated_Holdout object at 0x15ccb1c40>, Iteration: 0\n",
      "Method: <timecave.validation_methods.OOS.Repeated_Holdout object at 0x15ccb1c40>, Iteration: 1\n",
      "Method: <timecave.validation_methods.OOS.Repeated_Holdout object at 0x15ccb1c40>, Iteration: 2\n",
      "Method: <timecave.validation_methods.OOS.Repeated_Holdout object at 0x15ccb1c40>, Iteration: 3\n",
      "Method: <timecave.validation_methods.prequential.Growing_Window object at 0x1577989b0>\n",
      "Method: <timecave.validation_methods.prequential.Growing_Window object at 0x1577989b0>, Iteration: 0\n",
      "Method: <timecave.validation_methods.prequential.Growing_Window object at 0x1577989b0>, Iteration: 1\n",
      "Method: <timecave.validation_methods.prequential.Growing_Window object at 0x1577989b0>, Iteration: 2\n",
      "Method: <timecave.validation_methods.prequential.Growing_Window object at 0x1577989b0>, Iteration: 3\n",
      "Method: <timecave.validation_methods.prequential.Growing_Window object at 0x10694d190>\n",
      "Method: <timecave.validation_methods.prequential.Growing_Window object at 0x10694d190>, Iteration: 0\n",
      "Method: <timecave.validation_methods.prequential.Growing_Window object at 0x10694d190>, Iteration: 1\n",
      "Method: <timecave.validation_methods.prequential.Growing_Window object at 0x10694d190>, Iteration: 2\n",
      "Method: <timecave.validation_methods.prequential.Rolling_Window object at 0x157080860>\n",
      "Method: <timecave.validation_methods.prequential.Rolling_Window object at 0x157080860>, Iteration: 0\n",
      "Method: <timecave.validation_methods.prequential.Rolling_Window object at 0x157080860>, Iteration: 1\n",
      "Method: <timecave.validation_methods.prequential.Rolling_Window object at 0x157080860>, Iteration: 2\n",
      "Method: <timecave.validation_methods.prequential.Rolling_Window object at 0x157080860>, Iteration: 3\n",
      "Method: <timecave.validation_methods.prequential.Rolling_Window object at 0x1584289e0>\n",
      "Method: <timecave.validation_methods.prequential.Rolling_Window object at 0x1584289e0>, Iteration: 0\n",
      "Method: <timecave.validation_methods.prequential.Rolling_Window object at 0x1584289e0>, Iteration: 1\n",
      "Method: <timecave.validation_methods.prequential.Rolling_Window object at 0x1584289e0>, Iteration: 2\n",
      "Method: <timecave.validation_methods.CV.Block_CV object at 0x1219437a0>\n",
      "Method: <timecave.validation_methods.CV.Block_CV object at 0x1219437a0>, Iteration: 0\n",
      "Method: <timecave.validation_methods.CV.Block_CV object at 0x1219437a0>, Iteration: 1\n",
      "Method: <timecave.validation_methods.CV.Block_CV object at 0x1219437a0>, Iteration: 2\n",
      "Method: <timecave.validation_methods.CV.Block_CV object at 0x1219437a0>, Iteration: 3\n",
      "Method: <timecave.validation_methods.CV.Block_CV object at 0x1219437a0>, Iteration: 4\n",
      "Method: <timecave.validation_methods.markov.MarkovCV object at 0x121943770>\n",
      "Method: <timecave.validation_methods.markov.MarkovCV object at 0x121943770>, Iteration: 0\n",
      "Method: <timecave.validation_methods.markov.MarkovCV object at 0x121943770>, Iteration: 1\n",
      "Method: <timecave.validation_methods.markov.MarkovCV object at 0x121943770>, Iteration: 2\n",
      "Method: <timecave.validation_methods.markov.MarkovCV object at 0x121943770>, Iteration: 3\n",
      "Method: <timecave.validation_methods.markov.MarkovCV object at 0x121943770>, Iteration: 4\n",
      "Method: <timecave.validation_methods.markov.MarkovCV object at 0x121943770>, Iteration: 5\n",
      "Method: <timecave.validation_methods.markov.MarkovCV object at 0x121943770>, Iteration: 6\n",
      "Method: <timecave.validation_methods.markov.MarkovCV object at 0x121943770>, Iteration: 7\n",
      "Method: <timecave.validation_methods.markov.MarkovCV object at 0x121943770>, Iteration: 8\n",
      "Method: <timecave.validation_methods.markov.MarkovCV object at 0x121943770>, Iteration: 9\n",
      "\n",
      "Method: <timecave.validation_methods.OOS.Holdout object at 0x15d59c230>\n",
      "Method: <timecave.validation_methods.OOS.Holdout object at 0x15d59c230>, Iteration: 0\n",
      "Training and validation set statistics can only be computed if each of these comprise two or more samples.\n",
      "Method: <timecave.validation_methods.OOS.Repeated_Holdout object at 0x15d59c5f0>\n",
      "Method: <timecave.validation_methods.OOS.Repeated_Holdout object at 0x15d59c5f0>, Iteration: 0\n",
      "Method: <timecave.validation_methods.OOS.Repeated_Holdout object at 0x15d59c5f0>, Iteration: 1\n",
      "Method: <timecave.validation_methods.OOS.Repeated_Holdout object at 0x15d59c5f0>, Iteration: 2\n",
      "Method: <timecave.validation_methods.OOS.Repeated_Holdout object at 0x15d59c5f0>, Iteration: 3\n",
      "Method: <timecave.validation_methods.prequential.Growing_Window object at 0x15d59c920>\n",
      "Method: <timecave.validation_methods.prequential.Growing_Window object at 0x15d59c920>, Iteration: 0\n",
      "Method: <timecave.validation_methods.prequential.Growing_Window object at 0x15d59c920>, Iteration: 1\n",
      "Method: <timecave.validation_methods.prequential.Growing_Window object at 0x15d59c920>, Iteration: 2\n",
      "Method: <timecave.validation_methods.prequential.Growing_Window object at 0x15d59c920>, Iteration: 3\n",
      "Method: <timecave.validation_methods.prequential.Growing_Window object at 0x15d59c470>\n",
      "Method: <timecave.validation_methods.prequential.Growing_Window object at 0x15d59c470>, Iteration: 0\n",
      "Method: <timecave.validation_methods.prequential.Growing_Window object at 0x15d59c470>, Iteration: 1\n",
      "Method: <timecave.validation_methods.prequential.Growing_Window object at 0x15d59c470>, Iteration: 2\n",
      "Method: <timecave.validation_methods.prequential.Rolling_Window object at 0x1586351c0>\n",
      "Method: <timecave.validation_methods.prequential.Rolling_Window object at 0x1586351c0>, Iteration: 0\n",
      "Method: <timecave.validation_methods.prequential.Rolling_Window object at 0x1586351c0>, Iteration: 1\n",
      "Method: <timecave.validation_methods.prequential.Rolling_Window object at 0x1586351c0>, Iteration: 2\n",
      "Method: <timecave.validation_methods.prequential.Rolling_Window object at 0x1586351c0>, Iteration: 3\n",
      "Method: <timecave.validation_methods.prequential.Rolling_Window object at 0x15d59c200>\n",
      "Method: <timecave.validation_methods.prequential.Rolling_Window object at 0x15d59c200>, Iteration: 0\n",
      "Method: <timecave.validation_methods.prequential.Rolling_Window object at 0x15d59c200>, Iteration: 1\n",
      "Method: <timecave.validation_methods.prequential.Rolling_Window object at 0x15d59c200>, Iteration: 2\n",
      "Method: <timecave.validation_methods.CV.Block_CV object at 0x15d59c110>\n",
      "Method: <timecave.validation_methods.CV.Block_CV object at 0x15d59c110>, Iteration: 0\n",
      "Method: <timecave.validation_methods.CV.Block_CV object at 0x15d59c110>, Iteration: 1\n",
      "Method: <timecave.validation_methods.CV.Block_CV object at 0x15d59c110>, Iteration: 2\n",
      "Method: <timecave.validation_methods.CV.Block_CV object at 0x15d59c110>, Iteration: 3\n",
      "Method: <timecave.validation_methods.CV.Block_CV object at 0x15d59c110>, Iteration: 4\n",
      "Method: <timecave.validation_methods.markov.MarkovCV object at 0x15d576240>\n",
      "Method: <timecave.validation_methods.markov.MarkovCV object at 0x15d576240>, Iteration: 0\n",
      "Method: <timecave.validation_methods.markov.MarkovCV object at 0x15d576240>, Iteration: 1\n",
      "Method: <timecave.validation_methods.markov.MarkovCV object at 0x15d576240>, Iteration: 2\n",
      "Method: <timecave.validation_methods.markov.MarkovCV object at 0x15d576240>, Iteration: 3\n",
      "Method: <timecave.validation_methods.markov.MarkovCV object at 0x15d576240>, Iteration: 4\n",
      "Method: <timecave.validation_methods.markov.MarkovCV object at 0x15d576240>, Iteration: 5\n",
      "Method: <timecave.validation_methods.markov.MarkovCV object at 0x15d576240>, Iteration: 6\n",
      "Method: <timecave.validation_methods.markov.MarkovCV object at 0x15d576240>, Iteration: 7\n",
      "Method: <timecave.validation_methods.markov.MarkovCV object at 0x15d576240>, Iteration: 8\n",
      "Method: <timecave.validation_methods.markov.MarkovCV object at 0x15d576240>, Iteration: 9\n",
      "\n",
      "Method: <timecave.validation_methods.OOS.Holdout object at 0x157ca2690>\n",
      "Method: <timecave.validation_methods.OOS.Holdout object at 0x157ca2690>, Iteration: 0\n",
      "Training and validation set statistics can only be computed if each of these comprise two or more samples.\n",
      "Method: <timecave.validation_methods.OOS.Repeated_Holdout object at 0x157ca2c30>\n",
      "Method: <timecave.validation_methods.OOS.Repeated_Holdout object at 0x157ca2c30>, Iteration: 0\n",
      "Method: <timecave.validation_methods.OOS.Repeated_Holdout object at 0x157ca2c30>, Iteration: 1\n",
      "Method: <timecave.validation_methods.OOS.Repeated_Holdout object at 0x157ca2c30>, Iteration: 2\n",
      "Method: <timecave.validation_methods.OOS.Repeated_Holdout object at 0x157ca2c30>, Iteration: 3\n",
      "Method: <timecave.validation_methods.prequential.Growing_Window object at 0x157ca2c90>\n",
      "Method: <timecave.validation_methods.prequential.Growing_Window object at 0x157ca2c90>, Iteration: 0\n",
      "Method: <timecave.validation_methods.prequential.Growing_Window object at 0x157ca2c90>, Iteration: 1\n",
      "Method: <timecave.validation_methods.prequential.Growing_Window object at 0x157ca2c90>, Iteration: 2\n",
      "Method: <timecave.validation_methods.prequential.Growing_Window object at 0x157ca2c90>, Iteration: 3\n",
      "Method: <timecave.validation_methods.prequential.Growing_Window object at 0x15cdb5010>\n",
      "Method: <timecave.validation_methods.prequential.Growing_Window object at 0x15cdb5010>, Iteration: 0\n",
      "Method: <timecave.validation_methods.prequential.Growing_Window object at 0x15cdb5010>, Iteration: 1\n",
      "Method: <timecave.validation_methods.prequential.Growing_Window object at 0x15cdb5010>, Iteration: 2\n",
      "Method: <timecave.validation_methods.prequential.Rolling_Window object at 0x15d786270>\n",
      "Method: <timecave.validation_methods.prequential.Rolling_Window object at 0x15d786270>, Iteration: 0\n",
      "Method: <timecave.validation_methods.prequential.Rolling_Window object at 0x15d786270>, Iteration: 1\n",
      "Method: <timecave.validation_methods.prequential.Rolling_Window object at 0x15d786270>, Iteration: 2\n",
      "Method: <timecave.validation_methods.prequential.Rolling_Window object at 0x15d786270>, Iteration: 3\n",
      "Method: <timecave.validation_methods.prequential.Rolling_Window object at 0x15d786900>\n",
      "Method: <timecave.validation_methods.prequential.Rolling_Window object at 0x15d786900>, Iteration: 0\n",
      "Method: <timecave.validation_methods.prequential.Rolling_Window object at 0x15d786900>, Iteration: 1\n",
      "Method: <timecave.validation_methods.prequential.Rolling_Window object at 0x15d786900>, Iteration: 2\n",
      "Method: <timecave.validation_methods.CV.Block_CV object at 0x15d784680>\n",
      "Method: <timecave.validation_methods.CV.Block_CV object at 0x15d784680>, Iteration: 0\n",
      "Method: <timecave.validation_methods.CV.Block_CV object at 0x15d784680>, Iteration: 1\n",
      "Method: <timecave.validation_methods.CV.Block_CV object at 0x15d784680>, Iteration: 2\n",
      "Method: <timecave.validation_methods.CV.Block_CV object at 0x15d784680>, Iteration: 3\n",
      "Method: <timecave.validation_methods.CV.Block_CV object at 0x15d784680>, Iteration: 4\n",
      "Method: <timecave.validation_methods.markov.MarkovCV object at 0x15d786de0>\n",
      "Method: <timecave.validation_methods.markov.MarkovCV object at 0x15d786de0>, Iteration: 0\n",
      "Method: <timecave.validation_methods.markov.MarkovCV object at 0x15d786de0>, Iteration: 1\n",
      "Method: <timecave.validation_methods.markov.MarkovCV object at 0x15d786de0>, Iteration: 2\n",
      "Method: <timecave.validation_methods.markov.MarkovCV object at 0x15d786de0>, Iteration: 3\n",
      "Method: <timecave.validation_methods.markov.MarkovCV object at 0x15d786de0>, Iteration: 4\n",
      "Method: <timecave.validation_methods.markov.MarkovCV object at 0x15d786de0>, Iteration: 5\n",
      "Method: <timecave.validation_methods.markov.MarkovCV object at 0x15d786de0>, Iteration: 6\n",
      "Method: <timecave.validation_methods.markov.MarkovCV object at 0x15d786de0>, Iteration: 7\n",
      "Method: <timecave.validation_methods.markov.MarkovCV object at 0x15d786de0>, Iteration: 8\n",
      "Method: <timecave.validation_methods.markov.MarkovCV object at 0x15d786de0>, Iteration: 9\n",
      "\n",
      "Method: <timecave.validation_methods.OOS.Holdout object at 0x15cdb5040>\n",
      "Method: <timecave.validation_methods.OOS.Holdout object at 0x15cdb5040>, Iteration: 0\n",
      "Training and validation set statistics can only be computed if each of these comprise two or more samples.\n",
      "Method: <timecave.validation_methods.OOS.Repeated_Holdout object at 0x15d59c6b0>\n",
      "Method: <timecave.validation_methods.OOS.Repeated_Holdout object at 0x15d59c6b0>, Iteration: 0\n",
      "Method: <timecave.validation_methods.OOS.Repeated_Holdout object at 0x15d59c6b0>, Iteration: 1\n",
      "Method: <timecave.validation_methods.OOS.Repeated_Holdout object at 0x15d59c6b0>, Iteration: 2\n",
      "Method: <timecave.validation_methods.OOS.Repeated_Holdout object at 0x15d59c6b0>, Iteration: 3\n",
      "Method: <timecave.validation_methods.prequential.Growing_Window object at 0x15d59de50>\n",
      "Method: <timecave.validation_methods.prequential.Growing_Window object at 0x15d59de50>, Iteration: 0\n",
      "Method: <timecave.validation_methods.prequential.Growing_Window object at 0x15d59de50>, Iteration: 1\n",
      "Method: <timecave.validation_methods.prequential.Growing_Window object at 0x15d59de50>, Iteration: 2\n",
      "Method: <timecave.validation_methods.prequential.Growing_Window object at 0x15d59de50>, Iteration: 3\n"
     ]
    },
    {
     "name": "stderr",
     "output_type": "stream",
     "text": [
      "/Users/beatrizlourenco/Documents/GitHub/tsvalidation/experiments/run_experiments.py:49: UserWarning: Could not infer format, so each element will be parsed individually, falling back to `dateutil`. To ensure parsing is consistent and as-expected, please specify a format.\n",
      "  df = pd.read_csv(file, parse_dates=[0])\n"
     ]
    },
    {
     "name": "stdout",
     "output_type": "stream",
     "text": [
      "Method: <timecave.validation_methods.prequential.Growing_Window object at 0x15d59c590>\n",
      "Method: <timecave.validation_methods.prequential.Growing_Window object at 0x15d59c590>, Iteration: 0\n",
      "Method: <timecave.validation_methods.prequential.Growing_Window object at 0x15d59c590>, Iteration: 1\n",
      "Method: <timecave.validation_methods.prequential.Growing_Window object at 0x15d59c590>, Iteration: 2\n",
      "Method: <timecave.validation_methods.prequential.Rolling_Window object at 0x15d59cfe0>\n",
      "Method: <timecave.validation_methods.prequential.Rolling_Window object at 0x15d59cfe0>, Iteration: 0\n",
      "Method: <timecave.validation_methods.prequential.Rolling_Window object at 0x15d59cfe0>, Iteration: 1\n",
      "Method: <timecave.validation_methods.prequential.Rolling_Window object at 0x15d59cfe0>, Iteration: 2\n",
      "Method: <timecave.validation_methods.prequential.Rolling_Window object at 0x15d59cfe0>, Iteration: 3\n",
      "Method: <timecave.validation_methods.prequential.Rolling_Window object at 0x15d59d9a0>\n",
      "Method: <timecave.validation_methods.prequential.Rolling_Window object at 0x15d59d9a0>, Iteration: 0\n",
      "Method: <timecave.validation_methods.prequential.Rolling_Window object at 0x15d59d9a0>, Iteration: 1\n",
      "Method: <timecave.validation_methods.prequential.Rolling_Window object at 0x15d59d9a0>, Iteration: 2\n",
      "Method: <timecave.validation_methods.CV.Block_CV object at 0x15d59cad0>\n",
      "Method: <timecave.validation_methods.CV.Block_CV object at 0x15d59cad0>, Iteration: 0\n",
      "Method: <timecave.validation_methods.CV.Block_CV object at 0x15d59cad0>, Iteration: 1\n",
      "Method: <timecave.validation_methods.CV.Block_CV object at 0x15d59cad0>, Iteration: 2\n",
      "Method: <timecave.validation_methods.CV.Block_CV object at 0x15d59cad0>, Iteration: 3\n",
      "Method: <timecave.validation_methods.CV.Block_CV object at 0x15d59cad0>, Iteration: 4\n",
      "Method: <timecave.validation_methods.markov.MarkovCV object at 0x15d59df40>\n",
      "Method: <timecave.validation_methods.markov.MarkovCV object at 0x15d59df40>, Iteration: 0\n",
      "Method: <timecave.validation_methods.markov.MarkovCV object at 0x15d59df40>, Iteration: 1\n",
      "Method: <timecave.validation_methods.markov.MarkovCV object at 0x15d59df40>, Iteration: 2\n",
      "Method: <timecave.validation_methods.markov.MarkovCV object at 0x15d59df40>, Iteration: 3\n",
      "Method: <timecave.validation_methods.markov.MarkovCV object at 0x15d59df40>, Iteration: 4\n",
      "Method: <timecave.validation_methods.markov.MarkovCV object at 0x15d59df40>, Iteration: 5\n",
      "Method: <timecave.validation_methods.markov.MarkovCV object at 0x15d59df40>, Iteration: 6\n",
      "Method: <timecave.validation_methods.markov.MarkovCV object at 0x15d59df40>, Iteration: 7\n",
      "Method: <timecave.validation_methods.markov.MarkovCV object at 0x15d59df40>, Iteration: 8\n",
      "Method: <timecave.validation_methods.markov.MarkovCV object at 0x15d59df40>, Iteration: 9\n",
      "\n",
      "Method: <timecave.validation_methods.OOS.Holdout object at 0x15d59dac0>\n",
      "Method: <timecave.validation_methods.OOS.Holdout object at 0x15d59dac0>, Iteration: 0\n",
      "Training and validation set statistics can only be computed if each of these comprise two or more samples.\n",
      "Method: <timecave.validation_methods.OOS.Repeated_Holdout object at 0x15d59c3b0>\n",
      "Method: <timecave.validation_methods.OOS.Repeated_Holdout object at 0x15d59c3b0>, Iteration: 0\n",
      "Method: <timecave.validation_methods.OOS.Repeated_Holdout object at 0x15d59c3b0>, Iteration: 1\n",
      "Method: <timecave.validation_methods.OOS.Repeated_Holdout object at 0x15d59c3b0>, Iteration: 2\n",
      "Method: <timecave.validation_methods.OOS.Repeated_Holdout object at 0x15d59c3b0>, Iteration: 3\n",
      "Method: <timecave.validation_methods.prequential.Growing_Window object at 0x15d59e4e0>\n",
      "Method: <timecave.validation_methods.prequential.Growing_Window object at 0x15d59e4e0>, Iteration: 0\n",
      "Method: <timecave.validation_methods.prequential.Growing_Window object at 0x15d59e4e0>, Iteration: 1\n",
      "Method: <timecave.validation_methods.prequential.Growing_Window object at 0x15d59e4e0>, Iteration: 2\n",
      "Method: <timecave.validation_methods.prequential.Growing_Window object at 0x15d59e4e0>, Iteration: 3\n",
      "Method: <timecave.validation_methods.prequential.Growing_Window object at 0x15d59d9d0>\n",
      "Method: <timecave.validation_methods.prequential.Growing_Window object at 0x15d59d9d0>, Iteration: 0\n",
      "Method: <timecave.validation_methods.prequential.Growing_Window object at 0x15d59d9d0>, Iteration: 1\n",
      "Method: <timecave.validation_methods.prequential.Growing_Window object at 0x15d59d9d0>, Iteration: 2\n",
      "Method: <timecave.validation_methods.prequential.Rolling_Window object at 0x15d59e630>\n",
      "Method: <timecave.validation_methods.prequential.Rolling_Window object at 0x15d59e630>, Iteration: 0\n",
      "Method: <timecave.validation_methods.prequential.Rolling_Window object at 0x15d59e630>, Iteration: 1\n",
      "Method: <timecave.validation_methods.prequential.Rolling_Window object at 0x15d59e630>, Iteration: 2\n",
      "Method: <timecave.validation_methods.prequential.Rolling_Window object at 0x15d59e630>, Iteration: 3\n",
      "Method: <timecave.validation_methods.prequential.Rolling_Window object at 0x15d59ca70>\n",
      "Method: <timecave.validation_methods.prequential.Rolling_Window object at 0x15d59ca70>, Iteration: 0\n",
      "Method: <timecave.validation_methods.prequential.Rolling_Window object at 0x15d59ca70>, Iteration: 1\n",
      "Method: <timecave.validation_methods.prequential.Rolling_Window object at 0x15d59ca70>, Iteration: 2\n",
      "Method: <timecave.validation_methods.CV.Block_CV object at 0x15d59dee0>\n",
      "Method: <timecave.validation_methods.CV.Block_CV object at 0x15d59dee0>, Iteration: 0\n",
      "Method: <timecave.validation_methods.CV.Block_CV object at 0x15d59dee0>, Iteration: 1\n",
      "Method: <timecave.validation_methods.CV.Block_CV object at 0x15d59dee0>, Iteration: 2\n",
      "Method: <timecave.validation_methods.CV.Block_CV object at 0x15d59dee0>, Iteration: 3\n",
      "Method: <timecave.validation_methods.CV.Block_CV object at 0x15d59dee0>, Iteration: 4\n",
      "Method: <timecave.validation_methods.markov.MarkovCV object at 0x15d59d460>\n",
      "Method: <timecave.validation_methods.markov.MarkovCV object at 0x15d59d460>, Iteration: 0\n",
      "Method: <timecave.validation_methods.markov.MarkovCV object at 0x15d59d460>, Iteration: 1\n",
      "Method: <timecave.validation_methods.markov.MarkovCV object at 0x15d59d460>, Iteration: 2\n",
      "Method: <timecave.validation_methods.markov.MarkovCV object at 0x15d59d460>, Iteration: 3\n",
      "Method: <timecave.validation_methods.markov.MarkovCV object at 0x15d59d460>, Iteration: 4\n",
      "Method: <timecave.validation_methods.markov.MarkovCV object at 0x15d59d460>, Iteration: 5\n",
      "Method: <timecave.validation_methods.markov.MarkovCV object at 0x15d59d460>, Iteration: 6\n",
      "Method: <timecave.validation_methods.markov.MarkovCV object at 0x15d59d460>, Iteration: 7\n",
      "Method: <timecave.validation_methods.markov.MarkovCV object at 0x15d59d460>, Iteration: 8\n",
      "Method: <timecave.validation_methods.markov.MarkovCV object at 0x15d59d460>, Iteration: 9\n",
      "\n",
      "Method: <timecave.validation_methods.OOS.Holdout object at 0x15d7d55e0>\n",
      "Method: <timecave.validation_methods.OOS.Holdout object at 0x15d7d55e0>, Iteration: 0\n",
      "Training and validation set statistics can only be computed if each of these comprise two or more samples.\n",
      "Method: <timecave.validation_methods.OOS.Repeated_Holdout object at 0x15d7d6270>\n",
      "Method: <timecave.validation_methods.OOS.Repeated_Holdout object at 0x15d7d6270>, Iteration: 0\n",
      "Method: <timecave.validation_methods.OOS.Repeated_Holdout object at 0x15d7d6270>, Iteration: 1\n",
      "Method: <timecave.validation_methods.OOS.Repeated_Holdout object at 0x15d7d6270>, Iteration: 2\n",
      "Method: <timecave.validation_methods.OOS.Repeated_Holdout object at 0x15d7d6270>, Iteration: 3\n",
      "Method: <timecave.validation_methods.prequential.Growing_Window object at 0x15d7d5370>\n",
      "Method: <timecave.validation_methods.prequential.Growing_Window object at 0x15d7d5370>, Iteration: 0\n",
      "Method: <timecave.validation_methods.prequential.Growing_Window object at 0x15d7d5370>, Iteration: 1\n",
      "Method: <timecave.validation_methods.prequential.Growing_Window object at 0x15d7d5370>, Iteration: 2\n",
      "Method: <timecave.validation_methods.prequential.Growing_Window object at 0x15d7d5370>, Iteration: 3\n",
      "Method: <timecave.validation_methods.prequential.Growing_Window object at 0x15d7d6450>\n",
      "Method: <timecave.validation_methods.prequential.Growing_Window object at 0x15d7d6450>, Iteration: 0\n",
      "Method: <timecave.validation_methods.prequential.Growing_Window object at 0x15d7d6450>, Iteration: 1\n",
      "Method: <timecave.validation_methods.prequential.Growing_Window object at 0x15d7d6450>, Iteration: 2\n",
      "Method: <timecave.validation_methods.prequential.Rolling_Window object at 0x15d7d7e90>\n",
      "Method: <timecave.validation_methods.prequential.Rolling_Window object at 0x15d7d7e90>, Iteration: 0\n",
      "Method: <timecave.validation_methods.prequential.Rolling_Window object at 0x15d7d7e90>, Iteration: 1\n",
      "Method: <timecave.validation_methods.prequential.Rolling_Window object at 0x15d7d7e90>, Iteration: 2\n",
      "Method: <timecave.validation_methods.prequential.Rolling_Window object at 0x15d7d7e90>, Iteration: 3\n",
      "Method: <timecave.validation_methods.prequential.Rolling_Window object at 0x15d7afe60>\n",
      "Method: <timecave.validation_methods.prequential.Rolling_Window object at 0x15d7afe60>, Iteration: 0\n",
      "Method: <timecave.validation_methods.prequential.Rolling_Window object at 0x15d7afe60>, Iteration: 1\n",
      "Method: <timecave.validation_methods.prequential.Rolling_Window object at 0x15d7afe60>, Iteration: 2\n",
      "Method: <timecave.validation_methods.CV.Block_CV object at 0x15d7ae4b0>\n",
      "Method: <timecave.validation_methods.CV.Block_CV object at 0x15d7ae4b0>, Iteration: 0\n",
      "Method: <timecave.validation_methods.CV.Block_CV object at 0x15d7ae4b0>, Iteration: 1\n",
      "Method: <timecave.validation_methods.CV.Block_CV object at 0x15d7ae4b0>, Iteration: 2\n",
      "Method: <timecave.validation_methods.CV.Block_CV object at 0x15d7ae4b0>, Iteration: 3\n",
      "Method: <timecave.validation_methods.CV.Block_CV object at 0x15d7ae4b0>, Iteration: 4\n",
      "Method: <timecave.validation_methods.markov.MarkovCV object at 0x15d798050>\n",
      "Method: <timecave.validation_methods.markov.MarkovCV object at 0x15d798050>, Iteration: 0\n",
      "Method: <timecave.validation_methods.markov.MarkovCV object at 0x15d798050>, Iteration: 1\n",
      "Method: <timecave.validation_methods.markov.MarkovCV object at 0x15d798050>, Iteration: 2\n",
      "Method: <timecave.validation_methods.markov.MarkovCV object at 0x15d798050>, Iteration: 3\n",
      "Method: <timecave.validation_methods.markov.MarkovCV object at 0x15d798050>, Iteration: 4\n",
      "Method: <timecave.validation_methods.markov.MarkovCV object at 0x15d798050>, Iteration: 5\n",
      "Method: <timecave.validation_methods.markov.MarkovCV object at 0x15d798050>, Iteration: 6\n",
      "Method: <timecave.validation_methods.markov.MarkovCV object at 0x15d798050>, Iteration: 7\n",
      "Method: <timecave.validation_methods.markov.MarkovCV object at 0x15d798050>, Iteration: 8\n",
      "Method: <timecave.validation_methods.markov.MarkovCV object at 0x15d798050>, Iteration: 9\n",
      "\n",
      "\n"
     ]
    }
   ],
   "source": [
    "run(filenames=files, backup_dir=backup_dir, results_dir=results_dir, resume_run=False, model_func=mock_predict, add_name='test')"
   ]
  },
  {
   "cell_type": "markdown",
   "metadata": {},
   "source": [
    "## Mode \"Time Series Subset\""
   ]
  },
  {
   "cell_type": "markdown",
   "metadata": {},
   "source": [
    "Example: I want the first 50 series of all files."
   ]
  },
  {
   "cell_type": "code",
   "execution_count": null,
   "metadata": {},
   "outputs": [],
   "source": [
    "run(filenames=files, backup_dir=backup_dir, results_dir=results_dir, resume_run=False, from_ts=1, model_func=mock_predict, add_name='test_subset')"
   ]
  },
  {
   "cell_type": "code",
   "execution_count": null,
   "metadata": {},
   "outputs": [],
   "source": [
    "run(filenames=files, backup_dir=backup_dir, results_dir=results_dir, resume_run=False, to_ts=2, model_func=mock_predict, add_name='test')"
   ]
  },
  {
   "cell_type": "code",
   "execution_count": null,
   "metadata": {},
   "outputs": [],
   "source": [
    "run(filenames=files, backup_dir=backup_dir, results_dir=results_dir, resume_run=False, to_ts=2, model_func=mock_predict, add_name='test_pause')"
   ]
  },
  {
   "cell_type": "markdown",
   "metadata": {},
   "source": [
    "## Mode \"Resume Run\""
   ]
  },
  {
   "cell_type": "markdown",
   "metadata": {},
   "source": [
    "I want to resume the run from where I left it or from a set of given files."
   ]
  },
  {
   "cell_type": "code",
   "execution_count": null,
   "metadata": {},
   "outputs": [],
   "source": [
    "run(filenames=files, backup_dir=backup_dir, results_dir=results_dir, save_freq=1, resume_run=True, model_func=mock_predict, add_name='test_pause')"
   ]
  },
  {
   "cell_type": "code",
   "execution_count": null,
   "metadata": {},
   "outputs": [],
   "source": [
    "resume_files = ['datasets/test_data/test_results/test_backups/table_A_test_pause_2024_05_31__14_51_52.csv', \n",
    "                'datasets/test_data/test_results/test_backups/table_B_test_pause_2024_05_31__14_51_52.csv', \n",
    "                'datasets/test_data/test_results/test_backups/stats_total_test_pause_2024_05_31__14_51_52.csv', \n",
    "                'datasets/test_data/test_results/test_backups/stats_train_test_pause_2024_05_31__14_51_52.csv', \n",
    "                'datasets/test_data/test_results/test_backups/stats_val_test_pause_2024_05_31__14_51_52.csv']"
   ]
  },
  {
   "cell_type": "code",
   "execution_count": null,
   "metadata": {},
   "outputs": [],
   "source": [
    "run(filenames=files, backup_dir=backup_dir, results_dir=results_dir, resume_run=True, resume_files=resume_files, model_func=mock_predict, add_name='test_pause')"
   ]
  }
 ],
 "metadata": {
  "kernelspec": {
   "display_name": "cave",
   "language": "python",
   "name": "python3"
  },
  "language_info": {
   "codemirror_mode": {
    "name": "ipython",
    "version": 3
   },
   "file_extension": ".py",
   "mimetype": "text/x-python",
   "name": "python",
   "nbconvert_exporter": "python",
   "pygments_lexer": "ipython3",
   "version": "3.12.3"
  }
 },
 "nbformat": 4,
 "nbformat_minor": 2
}
