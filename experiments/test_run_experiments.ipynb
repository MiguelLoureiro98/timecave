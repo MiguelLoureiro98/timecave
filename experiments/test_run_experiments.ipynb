{
 "cells": [
  {
   "cell_type": "code",
   "execution_count": 1,
   "metadata": {},
   "outputs": [],
   "source": [
    "from timecave.data_generation import time_series_functions as tsf\n",
    "from timecave.data_generation import time_series_generation as tsg\n",
    "import numpy as np\n",
    "import pandas as pd\n",
    "from run_experiments import run"
   ]
  },
  {
   "cell_type": "markdown",
   "metadata": {},
   "source": [
    "# Test Data"
   ]
  },
  {
   "cell_type": "code",
   "execution_count": null,
   "metadata": {},
   "outputs": [],
   "source": [
    "def create_df_from_array(arr):\n",
    "    df = pd.DataFrame(np.array(arr).T)\n",
    "    df = df.reset_index(drop=False, names=[\"Timestep\"])\n",
    "    return df"
   ]
  },
  {
   "cell_type": "code",
   "execution_count": null,
   "metadata": {},
   "outputs": [],
   "source": [
    "samples = 30\n",
    "ts_nb = 3\n",
    "\n",
    "\n",
    "s1_parameters = {\n",
    "    'lags': 3,\n",
    "    'max_root': 1.2,\n",
    "    'ar': True,\n",
    "    'ma': False,\n",
    "    }\n",
    "\n",
    "g1 = tsg.TimeSeriesGenerator(\n",
    "    length = samples,\n",
    "    noise_level=0,\n",
    "    functions = [tsf.arma_ts], \n",
    "    parameter_values = [s1_parameters]\n",
    "    )\n",
    "\n",
    "g2 = tsg.TimeSeriesGenerator(\n",
    "    length = samples,\n",
    "    noise_level=0.5,\n",
    "    functions = [tsf.arma_ts], \n",
    "    parameter_values = [s1_parameters]\n",
    "    )\n",
    "arr1 = g1.generate(ts_nb, og_seed=1)\n",
    "df1 = create_df_from_array(arr1)\n",
    "\n",
    "arr2 = g2.generate(ts_nb, og_seed=2)\n",
    "df2 = create_df_from_array(arr2)"
   ]
  },
  {
   "cell_type": "code",
   "execution_count": null,
   "metadata": {},
   "outputs": [],
   "source": [
    "df1"
   ]
  },
  {
   "cell_type": "code",
   "execution_count": null,
   "metadata": {},
   "outputs": [],
   "source": [
    "#df1.to_csv('datasets/test_data/t1.csv', index=False)\n",
    "#df2.to_csv('datasets/test_data/t2.csv', index=False)"
   ]
  },
  {
   "cell_type": "markdown",
   "metadata": {},
   "source": [
    "# Run Experiments"
   ]
  },
  {
   "cell_type": "code",
   "execution_count": 2,
   "metadata": {},
   "outputs": [],
   "source": [
    "files = ['datasets/test_data/t1.csv', 'datasets/test_data/t2.csv']\n",
    "backup_dir = \"datasets/test_data/test_results/test_backups\"\n",
    "results_dir = \"datasets/test_data/test_results\""
   ]
  },
  {
   "cell_type": "code",
   "execution_count": 4,
   "metadata": {},
   "outputs": [],
   "source": [
    "def mock_predict(train, val, filename, col_idx, table, method=None, it=None):\n",
    "    row = pd.Series(\n",
    "        {\n",
    "            \"filename\": filename,\n",
    "            \"column_index\": col_idx,\n",
    "            \"method\": method,\n",
    "            \"iteration\": it,\n",
    "            \"model\": \"Mock Model\",\n",
    "            \"mse\": '0',\n",
    "            \"mae\": '0',\n",
    "            \"rmse\": '0',\n",
    "        }\n",
    "    )\n",
    "    table.loc[len(table.index)] = row[table.columns]\n",
    "    return"
   ]
  },
  {
   "cell_type": "markdown",
   "metadata": {},
   "source": [
    "## Mode \"Start Run\""
   ]
  },
  {
   "cell_type": "markdown",
   "metadata": {},
   "source": [
    "The most simple mode."
   ]
  },
  {
   "cell_type": "code",
   "execution_count": 5,
   "metadata": {},
   "outputs": [
    {
     "name": "stderr",
     "output_type": "stream",
     "text": [
      "c:\\Users\\User\\Documents\\Beatriz\\timecave\\experiments\\run_experiments.py:50: UserWarning: Could not infer format, so each element will be parsed individually, falling back to `dateutil`. To ensure parsing is consistent and as-expected, please specify a format.\n",
      "  df = pd.read_csv(file, parse_dates=[0])\n"
     ]
    },
    {
     "name": "stdout",
     "output_type": "stream",
     "text": [
      "Method: <timecave.validation_methods.OOS.Holdout object at 0x0000018D21019820>\n",
      "Method: <timecave.validation_methods.OOS.Holdout object at 0x0000018D21019820>, Iteration: 0\n",
      "Training and validation set statistics can only be computed if each of these comprise two or more samples.\n",
      "Method: <timecave.validation_methods.OOS.Repeated_Holdout object at 0x0000018D211597C0>\n",
      "Method: <timecave.validation_methods.OOS.Repeated_Holdout object at 0x0000018D211597C0>, Iteration: 0\n",
      "Method: <timecave.validation_methods.OOS.Repeated_Holdout object at 0x0000018D211597C0>, Iteration: 1\n",
      "Method: <timecave.validation_methods.OOS.Repeated_Holdout object at 0x0000018D211597C0>, Iteration: 2\n",
      "Method: <timecave.validation_methods.OOS.Repeated_Holdout object at 0x0000018D211597C0>, Iteration: 3\n",
      "Method: <timecave.validation_methods.prequential.Growing_Window object at 0x0000018D20ECDAC0>\n",
      "Method: <timecave.validation_methods.prequential.Growing_Window object at 0x0000018D20ECDAC0>, Iteration: 0\n",
      "Method: <timecave.validation_methods.prequential.Growing_Window object at 0x0000018D20ECDAC0>, Iteration: 1\n",
      "Method: <timecave.validation_methods.prequential.Growing_Window object at 0x0000018D20ECDAC0>, Iteration: 2\n",
      "Method: <timecave.validation_methods.prequential.Growing_Window object at 0x0000018D20ECDAC0>, Iteration: 3\n",
      "Method: <timecave.validation_methods.prequential.Growing_Window object at 0x0000018D66645340>\n",
      "Method: <timecave.validation_methods.prequential.Growing_Window object at 0x0000018D66645340>, Iteration: 0\n",
      "Method: <timecave.validation_methods.prequential.Growing_Window object at 0x0000018D66645340>, Iteration: 1\n",
      "Method: <timecave.validation_methods.prequential.Growing_Window object at 0x0000018D66645340>, Iteration: 2\n",
      "Method: <timecave.validation_methods.prequential.Rolling_Window object at 0x0000018D20ECF860>\n",
      "Method: <timecave.validation_methods.prequential.Rolling_Window object at 0x0000018D20ECF860>, Iteration: 0\n",
      "Method: <timecave.validation_methods.prequential.Rolling_Window object at 0x0000018D20ECF860>, Iteration: 1\n",
      "Method: <timecave.validation_methods.prequential.Rolling_Window object at 0x0000018D20ECF860>, Iteration: 2\n",
      "Method: <timecave.validation_methods.prequential.Rolling_Window object at 0x0000018D20ECF860>, Iteration: 3\n",
      "Method: <timecave.validation_methods.prequential.Rolling_Window object at 0x0000018D20FC10A0>\n",
      "Method: <timecave.validation_methods.prequential.Rolling_Window object at 0x0000018D20FC10A0>, Iteration: 0\n",
      "Method: <timecave.validation_methods.prequential.Rolling_Window object at 0x0000018D20FC10A0>, Iteration: 1\n",
      "Method: <timecave.validation_methods.prequential.Rolling_Window object at 0x0000018D20FC10A0>, Iteration: 2\n",
      "Method: <timecave.validation_methods.CV.Block_CV object at 0x0000018D20232F90>\n",
      "Method: <timecave.validation_methods.CV.Block_CV object at 0x0000018D20232F90>, Iteration: 0\n",
      "Method: <timecave.validation_methods.CV.Block_CV object at 0x0000018D20232F90>, Iteration: 1\n",
      "Method: <timecave.validation_methods.CV.Block_CV object at 0x0000018D20232F90>, Iteration: 2\n",
      "Method: <timecave.validation_methods.CV.Block_CV object at 0x0000018D20232F90>, Iteration: 3\n",
      "Method: <timecave.validation_methods.CV.Block_CV object at 0x0000018D20232F90>, Iteration: 4\n",
      "Method: <timecave.validation_methods.markov.MarkovCV object at 0x0000018D20F8ED80>\n",
      "Method: <timecave.validation_methods.markov.MarkovCV object at 0x0000018D20F8ED80>, Iteration: 0\n",
      "Method: <timecave.validation_methods.markov.MarkovCV object at 0x0000018D20F8ED80>, Iteration: 1\n",
      "Method: <timecave.validation_methods.markov.MarkovCV object at 0x0000018D20F8ED80>, Iteration: 2\n",
      "Method: <timecave.validation_methods.markov.MarkovCV object at 0x0000018D20F8ED80>, Iteration: 3\n",
      "Method: <timecave.validation_methods.markov.MarkovCV object at 0x0000018D20F8ED80>, Iteration: 4\n",
      "Method: <timecave.validation_methods.markov.MarkovCV object at 0x0000018D20F8ED80>, Iteration: 5\n",
      "Method: <timecave.validation_methods.markov.MarkovCV object at 0x0000018D20F8ED80>, Iteration: 6\n",
      "Method: <timecave.validation_methods.markov.MarkovCV object at 0x0000018D20F8ED80>, Iteration: 7\n",
      "Method: <timecave.validation_methods.markov.MarkovCV object at 0x0000018D20F8ED80>, Iteration: 8\n",
      "Method: <timecave.validation_methods.markov.MarkovCV object at 0x0000018D20F8ED80>, Iteration: 9\n",
      "\n",
      "Method: <timecave.validation_methods.OOS.Holdout object at 0x0000018D21159760>\n",
      "Method: <timecave.validation_methods.OOS.Holdout object at 0x0000018D21159760>, Iteration: 0\n",
      "Training and validation set statistics can only be computed if each of these comprise two or more samples.\n",
      "Method: <timecave.validation_methods.OOS.Repeated_Holdout object at 0x0000018D21159790>\n",
      "Method: <timecave.validation_methods.OOS.Repeated_Holdout object at 0x0000018D21159790>, Iteration: 0\n",
      "Method: <timecave.validation_methods.OOS.Repeated_Holdout object at 0x0000018D21159790>, Iteration: 1\n",
      "Method: <timecave.validation_methods.OOS.Repeated_Holdout object at 0x0000018D21159790>, Iteration: 2\n",
      "Method: <timecave.validation_methods.OOS.Repeated_Holdout object at 0x0000018D21159790>, Iteration: 3\n",
      "Method: <timecave.validation_methods.prequential.Growing_Window object at 0x0000018D211596D0>\n",
      "Method: <timecave.validation_methods.prequential.Growing_Window object at 0x0000018D211596D0>, Iteration: 0\n",
      "Method: <timecave.validation_methods.prequential.Growing_Window object at 0x0000018D211596D0>, Iteration: 1\n",
      "Method: <timecave.validation_methods.prequential.Growing_Window object at 0x0000018D211596D0>, Iteration: 2\n",
      "Method: <timecave.validation_methods.prequential.Growing_Window object at 0x0000018D211596D0>, Iteration: 3\n",
      "Method: <timecave.validation_methods.prequential.Growing_Window object at 0x0000018D21159730>\n",
      "Method: <timecave.validation_methods.prequential.Growing_Window object at 0x0000018D21159730>, Iteration: 0\n",
      "Method: <timecave.validation_methods.prequential.Growing_Window object at 0x0000018D21159730>, Iteration: 1\n",
      "Method: <timecave.validation_methods.prequential.Growing_Window object at 0x0000018D21159730>, Iteration: 2\n",
      "Method: <timecave.validation_methods.prequential.Rolling_Window object at 0x0000018D21159700>\n",
      "Method: <timecave.validation_methods.prequential.Rolling_Window object at 0x0000018D21159700>, Iteration: 0\n",
      "Method: <timecave.validation_methods.prequential.Rolling_Window object at 0x0000018D21159700>, Iteration: 1\n",
      "Method: <timecave.validation_methods.prequential.Rolling_Window object at 0x0000018D21159700>, Iteration: 2\n",
      "Method: <timecave.validation_methods.prequential.Rolling_Window object at 0x0000018D21159700>, Iteration: 3\n",
      "Method: <timecave.validation_methods.prequential.Rolling_Window object at 0x0000018D18700D40>\n",
      "Method: <timecave.validation_methods.prequential.Rolling_Window object at 0x0000018D18700D40>, Iteration: 0\n",
      "Method: <timecave.validation_methods.prequential.Rolling_Window object at 0x0000018D18700D40>, Iteration: 1\n",
      "Method: <timecave.validation_methods.prequential.Rolling_Window object at 0x0000018D18700D40>, Iteration: 2\n",
      "Method: <timecave.validation_methods.CV.Block_CV object at 0x0000018D181710A0>\n",
      "Method: <timecave.validation_methods.CV.Block_CV object at 0x0000018D181710A0>, Iteration: 0\n",
      "Method: <timecave.validation_methods.CV.Block_CV object at 0x0000018D181710A0>, Iteration: 1\n",
      "Method: <timecave.validation_methods.CV.Block_CV object at 0x0000018D181710A0>, Iteration: 2\n",
      "Method: <timecave.validation_methods.CV.Block_CV object at 0x0000018D181710A0>, Iteration: 3\n",
      "Method: <timecave.validation_methods.CV.Block_CV object at 0x0000018D181710A0>, Iteration: 4\n",
      "Method: <timecave.validation_methods.markov.MarkovCV object at 0x0000018D20F30260>\n",
      "Method: <timecave.validation_methods.markov.MarkovCV object at 0x0000018D20F30260>, Iteration: 0\n",
      "Method: <timecave.validation_methods.markov.MarkovCV object at 0x0000018D20F30260>, Iteration: 1\n",
      "Method: <timecave.validation_methods.markov.MarkovCV object at 0x0000018D20F30260>, Iteration: 2\n",
      "Method: <timecave.validation_methods.markov.MarkovCV object at 0x0000018D20F30260>, Iteration: 3\n",
      "Method: <timecave.validation_methods.markov.MarkovCV object at 0x0000018D20F30260>, Iteration: 4\n",
      "Method: <timecave.validation_methods.markov.MarkovCV object at 0x0000018D20F30260>, Iteration: 5\n",
      "Method: <timecave.validation_methods.markov.MarkovCV object at 0x0000018D20F30260>, Iteration: 6\n",
      "Method: <timecave.validation_methods.markov.MarkovCV object at 0x0000018D20F30260>, Iteration: 7\n",
      "Method: <timecave.validation_methods.markov.MarkovCV object at 0x0000018D20F30260>, Iteration: 8\n",
      "Method: <timecave.validation_methods.markov.MarkovCV object at 0x0000018D20F30260>, Iteration: 9\n",
      "\n",
      "Method: <timecave.validation_methods.OOS.Holdout object at 0x0000018D20A7D490>\n",
      "Method: <timecave.validation_methods.OOS.Holdout object at 0x0000018D20A7D490>, Iteration: 0\n",
      "Training and validation set statistics can only be computed if each of these comprise two or more samples.\n",
      "Method: <timecave.validation_methods.OOS.Repeated_Holdout object at 0x0000018D2115AE40>\n",
      "Method: <timecave.validation_methods.OOS.Repeated_Holdout object at 0x0000018D2115AE40>, Iteration: 0\n",
      "Method: <timecave.validation_methods.OOS.Repeated_Holdout object at 0x0000018D2115AE40>, Iteration: 1\n",
      "Method: <timecave.validation_methods.OOS.Repeated_Holdout object at 0x0000018D2115AE40>, Iteration: 2\n",
      "Method: <timecave.validation_methods.OOS.Repeated_Holdout object at 0x0000018D2115AE40>, Iteration: 3\n",
      "Method: <timecave.validation_methods.prequential.Growing_Window object at 0x0000018D211C71A0>\n",
      "Method: <timecave.validation_methods.prequential.Growing_Window object at 0x0000018D211C71A0>, Iteration: 0\n",
      "Method: <timecave.validation_methods.prequential.Growing_Window object at 0x0000018D211C71A0>, Iteration: 1\n",
      "Method: <timecave.validation_methods.prequential.Growing_Window object at 0x0000018D211C71A0>, Iteration: 2\n",
      "Method: <timecave.validation_methods.prequential.Growing_Window object at 0x0000018D211C71A0>, Iteration: 3\n",
      "Method: <timecave.validation_methods.prequential.Growing_Window object at 0x0000018D211C7020>\n",
      "Method: <timecave.validation_methods.prequential.Growing_Window object at 0x0000018D211C7020>, Iteration: 0\n",
      "Method: <timecave.validation_methods.prequential.Growing_Window object at 0x0000018D211C7020>, Iteration: 1\n",
      "Method: <timecave.validation_methods.prequential.Growing_Window object at 0x0000018D211C7020>, Iteration: 2\n",
      "Method: <timecave.validation_methods.prequential.Rolling_Window object at 0x0000018D20FF2ED0>\n",
      "Method: <timecave.validation_methods.prequential.Rolling_Window object at 0x0000018D20FF2ED0>, Iteration: 0\n",
      "Method: <timecave.validation_methods.prequential.Rolling_Window object at 0x0000018D20FF2ED0>, Iteration: 1\n",
      "Method: <timecave.validation_methods.prequential.Rolling_Window object at 0x0000018D20FF2ED0>, Iteration: 2\n",
      "Method: <timecave.validation_methods.prequential.Rolling_Window object at 0x0000018D20FF2ED0>, Iteration: 3\n",
      "Method: <timecave.validation_methods.prequential.Rolling_Window object at 0x0000018D2063F020>\n",
      "Method: <timecave.validation_methods.prequential.Rolling_Window object at 0x0000018D2063F020>, Iteration: 0\n",
      "Method: <timecave.validation_methods.prequential.Rolling_Window object at 0x0000018D2063F020>, Iteration: 1\n",
      "Method: <timecave.validation_methods.prequential.Rolling_Window object at 0x0000018D2063F020>, Iteration: 2\n",
      "Method: <timecave.validation_methods.CV.Block_CV object at 0x0000018D211C1B80>\n",
      "Method: <timecave.validation_methods.CV.Block_CV object at 0x0000018D211C1B80>, Iteration: 0\n",
      "Method: <timecave.validation_methods.CV.Block_CV object at 0x0000018D211C1B80>, Iteration: 1\n",
      "Method: <timecave.validation_methods.CV.Block_CV object at 0x0000018D211C1B80>, Iteration: 2\n",
      "Method: <timecave.validation_methods.CV.Block_CV object at 0x0000018D211C1B80>, Iteration: 3\n",
      "Method: <timecave.validation_methods.CV.Block_CV object at 0x0000018D211C1B80>, Iteration: 4\n",
      "Method: <timecave.validation_methods.markov.MarkovCV object at 0x0000018D1EFEC680>\n",
      "Method: <timecave.validation_methods.markov.MarkovCV object at 0x0000018D1EFEC680>, Iteration: 0\n",
      "Method: <timecave.validation_methods.markov.MarkovCV object at 0x0000018D1EFEC680>, Iteration: 1\n",
      "Method: <timecave.validation_methods.markov.MarkovCV object at 0x0000018D1EFEC680>, Iteration: 2\n",
      "Method: <timecave.validation_methods.markov.MarkovCV object at 0x0000018D1EFEC680>, Iteration: 3\n",
      "Method: <timecave.validation_methods.markov.MarkovCV object at 0x0000018D1EFEC680>, Iteration: 4\n",
      "Method: <timecave.validation_methods.markov.MarkovCV object at 0x0000018D1EFEC680>, Iteration: 5\n",
      "Method: <timecave.validation_methods.markov.MarkovCV object at 0x0000018D1EFEC680>, Iteration: 6\n",
      "Method: <timecave.validation_methods.markov.MarkovCV object at 0x0000018D1EFEC680>, Iteration: 7\n",
      "Method: <timecave.validation_methods.markov.MarkovCV object at 0x0000018D1EFEC680>, Iteration: 8\n",
      "Method: <timecave.validation_methods.markov.MarkovCV object at 0x0000018D1EFEC680>, Iteration: 9\n",
      "\n",
      "Method: <timecave.validation_methods.OOS.Holdout object at 0x0000018D2061D5E0>\n",
      "Method: <timecave.validation_methods.OOS.Holdout object at 0x0000018D2061D5E0>, Iteration: 0\n",
      "Training and validation set statistics can only be computed if each of these comprise two or more samples.\n",
      "Method: <timecave.validation_methods.OOS.Repeated_Holdout object at 0x0000018D6667A0F0>\n",
      "Method: <timecave.validation_methods.OOS.Repeated_Holdout object at 0x0000018D6667A0F0>, Iteration: 0\n",
      "Method: <timecave.validation_methods.OOS.Repeated_Holdout object at 0x0000018D6667A0F0>, Iteration: 1\n",
      "Method: <timecave.validation_methods.OOS.Repeated_Holdout object at 0x0000018D6667A0F0>, Iteration: 2\n",
      "Method: <timecave.validation_methods.OOS.Repeated_Holdout object at 0x0000018D6667A0F0>, Iteration: 3\n",
      "Method: <timecave.validation_methods.prequential.Growing_Window object at 0x0000018D1F1949E0>\n",
      "Method: <timecave.validation_methods.prequential.Growing_Window object at 0x0000018D1F1949E0>, Iteration: 0\n",
      "Method: <timecave.validation_methods.prequential.Growing_Window object at 0x0000018D1F1949E0>, Iteration: 1\n",
      "Method: <timecave.validation_methods.prequential.Growing_Window object at 0x0000018D1F1949E0>, Iteration: 2\n",
      "Method: <timecave.validation_methods.prequential.Growing_Window object at 0x0000018D1F1949E0>, Iteration: 3\n",
      "Method: <timecave.validation_methods.prequential.Growing_Window object at 0x0000018D211C6A80>\n",
      "Method: <timecave.validation_methods.prequential.Growing_Window object at 0x0000018D211C6A80>, Iteration: 0\n",
      "Method: <timecave.validation_methods.prequential.Growing_Window object at 0x0000018D211C6A80>, Iteration: 1\n",
      "Method: <timecave.validation_methods.prequential.Growing_Window object at 0x0000018D211C6A80>, Iteration: 2\n",
      "Method: <timecave.validation_methods.prequential.Rolling_Window object at 0x0000018D211C63C0>\n",
      "Method: <timecave.validation_methods.prequential.Rolling_Window object at 0x0000018D211C63C0>, Iteration: 0\n",
      "Method: <timecave.validation_methods.prequential.Rolling_Window object at 0x0000018D211C63C0>, Iteration: 1\n",
      "Method: <timecave.validation_methods.prequential.Rolling_Window object at 0x0000018D211C63C0>, Iteration: 2\n",
      "Method: <timecave.validation_methods.prequential.Rolling_Window object at 0x0000018D211C63C0>, Iteration: 3\n",
      "Method: <timecave.validation_methods.prequential.Rolling_Window object at 0x0000018D211C5E80>\n",
      "Method: <timecave.validation_methods.prequential.Rolling_Window object at 0x0000018D211C5E80>, Iteration: 0\n",
      "Method: <timecave.validation_methods.prequential.Rolling_Window object at 0x0000018D211C5E80>, Iteration: 1\n",
      "Method: <timecave.validation_methods.prequential.Rolling_Window object at 0x0000018D211C5E80>, Iteration: 2\n",
      "Method: <timecave.validation_methods.CV.Block_CV object at 0x0000018D211C5C40>\n",
      "Method: <timecave.validation_methods.CV.Block_CV object at 0x0000018D211C5C40>, Iteration: 0\n",
      "Method: <timecave.validation_methods.CV.Block_CV object at 0x0000018D211C5C40>, Iteration: 1\n",
      "Method: <timecave.validation_methods.CV.Block_CV object at 0x0000018D211C5C40>, Iteration: 2\n",
      "Method: <timecave.validation_methods.CV.Block_CV object at 0x0000018D211C5C40>, Iteration: 3\n",
      "Method: <timecave.validation_methods.CV.Block_CV object at 0x0000018D211C5C40>, Iteration: 4\n",
      "Method: <timecave.validation_methods.markov.MarkovCV object at 0x0000018D211C4860>\n",
      "Method: <timecave.validation_methods.markov.MarkovCV object at 0x0000018D211C4860>, Iteration: 0\n",
      "Method: <timecave.validation_methods.markov.MarkovCV object at 0x0000018D211C4860>, Iteration: 1\n",
      "Method: <timecave.validation_methods.markov.MarkovCV object at 0x0000018D211C4860>, Iteration: 2\n",
      "Method: <timecave.validation_methods.markov.MarkovCV object at 0x0000018D211C4860>, Iteration: 3\n",
      "Method: <timecave.validation_methods.markov.MarkovCV object at 0x0000018D211C4860>, Iteration: 4\n",
      "Method: <timecave.validation_methods.markov.MarkovCV object at 0x0000018D211C4860>, Iteration: 5\n",
      "Method: <timecave.validation_methods.markov.MarkovCV object at 0x0000018D211C4860>, Iteration: 6\n",
      "Method: <timecave.validation_methods.markov.MarkovCV object at 0x0000018D211C4860>, Iteration: 7\n",
      "Method: <timecave.validation_methods.markov.MarkovCV object at 0x0000018D211C4860>, Iteration: 8\n",
      "Method: <timecave.validation_methods.markov.MarkovCV object at 0x0000018D211C4860>, Iteration: 9\n"
     ]
    },
    {
     "name": "stderr",
     "output_type": "stream",
     "text": [
      "c:\\Users\\User\\Documents\\Beatriz\\timecave\\experiments\\run_experiments.py:50: UserWarning: Could not infer format, so each element will be parsed individually, falling back to `dateutil`. To ensure parsing is consistent and as-expected, please specify a format.\n",
      "  df = pd.read_csv(file, parse_dates=[0])\n"
     ]
    },
    {
     "name": "stdout",
     "output_type": "stream",
     "text": [
      "\n",
      "Method: <timecave.validation_methods.OOS.Holdout object at 0x0000018D1DB652E0>\n",
      "Method: <timecave.validation_methods.OOS.Holdout object at 0x0000018D1DB652E0>, Iteration: 0\n",
      "Training and validation set statistics can only be computed if each of these comprise two or more samples.\n",
      "Method: <timecave.validation_methods.OOS.Repeated_Holdout object at 0x0000018D6667AC00>\n",
      "Method: <timecave.validation_methods.OOS.Repeated_Holdout object at 0x0000018D6667AC00>, Iteration: 0\n",
      "Method: <timecave.validation_methods.OOS.Repeated_Holdout object at 0x0000018D6667AC00>, Iteration: 1\n",
      "Method: <timecave.validation_methods.OOS.Repeated_Holdout object at 0x0000018D6667AC00>, Iteration: 2\n",
      "Method: <timecave.validation_methods.OOS.Repeated_Holdout object at 0x0000018D6667AC00>, Iteration: 3\n",
      "Method: <timecave.validation_methods.prequential.Growing_Window object at 0x0000018D211C53D0>\n",
      "Method: <timecave.validation_methods.prequential.Growing_Window object at 0x0000018D211C53D0>, Iteration: 0\n",
      "Method: <timecave.validation_methods.prequential.Growing_Window object at 0x0000018D211C53D0>, Iteration: 1\n",
      "Method: <timecave.validation_methods.prequential.Growing_Window object at 0x0000018D211C53D0>, Iteration: 2\n",
      "Method: <timecave.validation_methods.prequential.Growing_Window object at 0x0000018D211C53D0>, Iteration: 3\n",
      "Method: <timecave.validation_methods.prequential.Growing_Window object at 0x0000018D666793A0>\n",
      "Method: <timecave.validation_methods.prequential.Growing_Window object at 0x0000018D666793A0>, Iteration: 0\n",
      "Method: <timecave.validation_methods.prequential.Growing_Window object at 0x0000018D666793A0>, Iteration: 1\n",
      "Method: <timecave.validation_methods.prequential.Growing_Window object at 0x0000018D666793A0>, Iteration: 2\n",
      "Method: <timecave.validation_methods.prequential.Rolling_Window object at 0x0000018D666792B0>\n",
      "Method: <timecave.validation_methods.prequential.Rolling_Window object at 0x0000018D666792B0>, Iteration: 0\n",
      "Method: <timecave.validation_methods.prequential.Rolling_Window object at 0x0000018D666792B0>, Iteration: 1\n",
      "Method: <timecave.validation_methods.prequential.Rolling_Window object at 0x0000018D666792B0>, Iteration: 2\n",
      "Method: <timecave.validation_methods.prequential.Rolling_Window object at 0x0000018D666792B0>, Iteration: 3\n",
      "Method: <timecave.validation_methods.prequential.Rolling_Window object at 0x0000018D20ECCAA0>\n",
      "Method: <timecave.validation_methods.prequential.Rolling_Window object at 0x0000018D20ECCAA0>, Iteration: 0\n",
      "Method: <timecave.validation_methods.prequential.Rolling_Window object at 0x0000018D20ECCAA0>, Iteration: 1\n",
      "Method: <timecave.validation_methods.prequential.Rolling_Window object at 0x0000018D20ECCAA0>, Iteration: 2\n",
      "Method: <timecave.validation_methods.CV.Block_CV object at 0x0000018D20ECD730>\n",
      "Method: <timecave.validation_methods.CV.Block_CV object at 0x0000018D20ECD730>, Iteration: 0\n",
      "Method: <timecave.validation_methods.CV.Block_CV object at 0x0000018D20ECD730>, Iteration: 1\n",
      "Method: <timecave.validation_methods.CV.Block_CV object at 0x0000018D20ECD730>, Iteration: 2\n",
      "Method: <timecave.validation_methods.CV.Block_CV object at 0x0000018D20ECD730>, Iteration: 3\n",
      "Method: <timecave.validation_methods.CV.Block_CV object at 0x0000018D20ECD730>, Iteration: 4\n",
      "Method: <timecave.validation_methods.markov.MarkovCV object at 0x0000018D211C56D0>\n",
      "Method: <timecave.validation_methods.markov.MarkovCV object at 0x0000018D211C56D0>, Iteration: 0\n",
      "Method: <timecave.validation_methods.markov.MarkovCV object at 0x0000018D211C56D0>, Iteration: 1\n",
      "Method: <timecave.validation_methods.markov.MarkovCV object at 0x0000018D211C56D0>, Iteration: 2\n",
      "Method: <timecave.validation_methods.markov.MarkovCV object at 0x0000018D211C56D0>, Iteration: 3\n",
      "Method: <timecave.validation_methods.markov.MarkovCV object at 0x0000018D211C56D0>, Iteration: 4\n",
      "Method: <timecave.validation_methods.markov.MarkovCV object at 0x0000018D211C56D0>, Iteration: 5\n",
      "Method: <timecave.validation_methods.markov.MarkovCV object at 0x0000018D211C56D0>, Iteration: 6\n",
      "Method: <timecave.validation_methods.markov.MarkovCV object at 0x0000018D211C56D0>, Iteration: 7\n",
      "Method: <timecave.validation_methods.markov.MarkovCV object at 0x0000018D211C56D0>, Iteration: 8\n",
      "Method: <timecave.validation_methods.markov.MarkovCV object at 0x0000018D211C56D0>, Iteration: 9\n",
      "\n",
      "Method: <timecave.validation_methods.OOS.Holdout object at 0x0000018D2115AB40>\n",
      "Method: <timecave.validation_methods.OOS.Holdout object at 0x0000018D2115AB40>, Iteration: 0\n",
      "Training and validation set statistics can only be computed if each of these comprise two or more samples.\n",
      "Method: <timecave.validation_methods.OOS.Repeated_Holdout object at 0x0000018D211C2AB0>\n",
      "Method: <timecave.validation_methods.OOS.Repeated_Holdout object at 0x0000018D211C2AB0>, Iteration: 0\n",
      "Method: <timecave.validation_methods.OOS.Repeated_Holdout object at 0x0000018D211C2AB0>, Iteration: 1\n",
      "Method: <timecave.validation_methods.OOS.Repeated_Holdout object at 0x0000018D211C2AB0>, Iteration: 2\n",
      "Method: <timecave.validation_methods.OOS.Repeated_Holdout object at 0x0000018D211C2AB0>, Iteration: 3\n",
      "Method: <timecave.validation_methods.prequential.Growing_Window object at 0x0000018D211C1BE0>\n",
      "Method: <timecave.validation_methods.prequential.Growing_Window object at 0x0000018D211C1BE0>, Iteration: 0\n",
      "Method: <timecave.validation_methods.prequential.Growing_Window object at 0x0000018D211C1BE0>, Iteration: 1\n",
      "Method: <timecave.validation_methods.prequential.Growing_Window object at 0x0000018D211C1BE0>, Iteration: 2\n",
      "Method: <timecave.validation_methods.prequential.Growing_Window object at 0x0000018D211C1BE0>, Iteration: 3\n",
      "Method: <timecave.validation_methods.prequential.Growing_Window object at 0x0000018D211C1520>\n",
      "Method: <timecave.validation_methods.prequential.Growing_Window object at 0x0000018D211C1520>, Iteration: 0\n",
      "Method: <timecave.validation_methods.prequential.Growing_Window object at 0x0000018D211C1520>, Iteration: 1\n",
      "Method: <timecave.validation_methods.prequential.Growing_Window object at 0x0000018D211C1520>, Iteration: 2\n",
      "Method: <timecave.validation_methods.prequential.Rolling_Window object at 0x0000018D211C2750>\n",
      "Method: <timecave.validation_methods.prequential.Rolling_Window object at 0x0000018D211C2750>, Iteration: 0\n",
      "Method: <timecave.validation_methods.prequential.Rolling_Window object at 0x0000018D211C2750>, Iteration: 1\n",
      "Method: <timecave.validation_methods.prequential.Rolling_Window object at 0x0000018D211C2750>, Iteration: 2\n",
      "Method: <timecave.validation_methods.prequential.Rolling_Window object at 0x0000018D211C2750>, Iteration: 3\n",
      "Method: <timecave.validation_methods.prequential.Rolling_Window object at 0x0000018D211C0170>\n",
      "Method: <timecave.validation_methods.prequential.Rolling_Window object at 0x0000018D211C0170>, Iteration: 0\n",
      "Method: <timecave.validation_methods.prequential.Rolling_Window object at 0x0000018D211C0170>, Iteration: 1\n",
      "Method: <timecave.validation_methods.prequential.Rolling_Window object at 0x0000018D211C0170>, Iteration: 2\n",
      "Method: <timecave.validation_methods.CV.Block_CV object at 0x0000018D211C31A0>\n",
      "Method: <timecave.validation_methods.CV.Block_CV object at 0x0000018D211C31A0>, Iteration: 0\n",
      "Method: <timecave.validation_methods.CV.Block_CV object at 0x0000018D211C31A0>, Iteration: 1\n",
      "Method: <timecave.validation_methods.CV.Block_CV object at 0x0000018D211C31A0>, Iteration: 2\n",
      "Method: <timecave.validation_methods.CV.Block_CV object at 0x0000018D211C31A0>, Iteration: 3\n",
      "Method: <timecave.validation_methods.CV.Block_CV object at 0x0000018D211C31A0>, Iteration: 4\n",
      "Method: <timecave.validation_methods.markov.MarkovCV object at 0x0000018D211C07A0>\n",
      "Method: <timecave.validation_methods.markov.MarkovCV object at 0x0000018D211C07A0>, Iteration: 0\n",
      "Method: <timecave.validation_methods.markov.MarkovCV object at 0x0000018D211C07A0>, Iteration: 1\n",
      "Method: <timecave.validation_methods.markov.MarkovCV object at 0x0000018D211C07A0>, Iteration: 2\n",
      "Method: <timecave.validation_methods.markov.MarkovCV object at 0x0000018D211C07A0>, Iteration: 3\n",
      "Method: <timecave.validation_methods.markov.MarkovCV object at 0x0000018D211C07A0>, Iteration: 4\n",
      "Method: <timecave.validation_methods.markov.MarkovCV object at 0x0000018D211C07A0>, Iteration: 5\n",
      "Method: <timecave.validation_methods.markov.MarkovCV object at 0x0000018D211C07A0>, Iteration: 6\n",
      "Method: <timecave.validation_methods.markov.MarkovCV object at 0x0000018D211C07A0>, Iteration: 7\n",
      "Method: <timecave.validation_methods.markov.MarkovCV object at 0x0000018D211C07A0>, Iteration: 8\n",
      "Method: <timecave.validation_methods.markov.MarkovCV object at 0x0000018D211C07A0>, Iteration: 9\n",
      "\n",
      "\n"
     ]
    }
   ],
   "source": [
    "run(filenames=files, backup_dir=backup_dir, results_dir=results_dir, resume_run=False, model_func=mock_predict, add_name='test')"
   ]
  },
  {
   "cell_type": "markdown",
   "metadata": {},
   "source": [
    "## Mode \"Time Series Subset\""
   ]
  },
  {
   "cell_type": "markdown",
   "metadata": {},
   "source": [
    "Example: I want the first 50 series of all files."
   ]
  },
  {
   "cell_type": "code",
   "execution_count": null,
   "metadata": {},
   "outputs": [],
   "source": [
    "run(filenames=files, backup_dir=backup_dir, results_dir=results_dir, resume_run=False, from_ts=1, model_func=mock_predict, add_name='test_subset')"
   ]
  },
  {
   "cell_type": "code",
   "execution_count": null,
   "metadata": {},
   "outputs": [],
   "source": [
    "run(filenames=files, backup_dir=backup_dir, results_dir=results_dir, resume_run=False, to_ts=2, model_func=mock_predict, add_name='test')"
   ]
  },
  {
   "cell_type": "code",
   "execution_count": null,
   "metadata": {},
   "outputs": [],
   "source": [
    "run(filenames=files, backup_dir=backup_dir, results_dir=results_dir, resume_run=False, to_ts=2, model_func=mock_predict, add_name='test_pause')"
   ]
  },
  {
   "cell_type": "markdown",
   "metadata": {},
   "source": [
    "## Mode \"Resume Run\""
   ]
  },
  {
   "cell_type": "markdown",
   "metadata": {},
   "source": [
    "I want to resume the run from where I left it or from a set of given files."
   ]
  },
  {
   "cell_type": "code",
   "execution_count": null,
   "metadata": {},
   "outputs": [],
   "source": [
    "run(filenames=files, backup_dir=backup_dir, results_dir=results_dir, save_freq=1, resume_run=True, model_func=mock_predict, add_name='test_pause')"
   ]
  },
  {
   "cell_type": "code",
   "execution_count": null,
   "metadata": {},
   "outputs": [],
   "source": [
    "resume_files = ['datasets/test_data/test_results/test_backups/table_A_test_pause_2024_05_31__14_51_52.csv', \n",
    "                'datasets/test_data/test_results/test_backups/table_B_test_pause_2024_05_31__14_51_52.csv', \n",
    "                'datasets/test_data/test_results/test_backups/stats_total_test_pause_2024_05_31__14_51_52.csv', \n",
    "                'datasets/test_data/test_results/test_backups/stats_train_test_pause_2024_05_31__14_51_52.csv', \n",
    "                'datasets/test_data/test_results/test_backups/stats_val_test_pause_2024_05_31__14_51_52.csv']"
   ]
  },
  {
   "cell_type": "code",
   "execution_count": null,
   "metadata": {},
   "outputs": [],
   "source": [
    "run(filenames=files, backup_dir=backup_dir, results_dir=results_dir, resume_run=True, resume_files=resume_files, model_func=mock_predict, add_name='test_pause')"
   ]
  }
 ],
 "metadata": {
  "kernelspec": {
   "display_name": "cave",
   "language": "python",
   "name": "python3"
  },
  "language_info": {
   "codemirror_mode": {
    "name": "ipython",
    "version": 3
   },
   "file_extension": ".py",
   "mimetype": "text/x-python",
   "name": "python",
   "nbconvert_exporter": "python",
   "pygments_lexer": "ipython3",
   "version": "3.12.3"
  }
 },
 "nbformat": 4,
 "nbformat_minor": 2
}
